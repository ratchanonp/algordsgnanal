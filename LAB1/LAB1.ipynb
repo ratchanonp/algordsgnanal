{
 "cells": [
  {
   "cell_type": "code",
   "execution_count": 1,
   "metadata": {},
   "outputs": [],
   "source": [
    "import time\n",
    "import numpy as np\n",
    "import matplotlib.pyplot as plt\n",
    "import math"
   ]
  },
  {
   "cell_type": "markdown",
   "metadata": {},
   "source": [
    "# Naive solution \n",
    "\n"
   ]
  },
  {
   "cell_type": "code",
   "execution_count": 2,
   "metadata": {},
   "outputs": [],
   "source": [
    "def naive_prime_factorization(n):\n",
    "\n",
    "    factors = []\n",
    "    \n",
    "    while n % 2 == 0: # if n is even\n",
    "        factors.append(2)\n",
    "        n = n / 2\n",
    "\n",
    "    # find all the prime factors of n\n",
    "    for i in range(3, int(math.sqrt(n)) + 1, 2):\n",
    "        while n % i == 0:\n",
    "            factors.append(i)\n",
    "            n = n / i\n",
    "\n",
    "    # if n is a prime\n",
    "    if n > 2:\n",
    "        factors.append(n)\n",
    "\n",
    "    return factors\n",
    "\n",
    "def FindGCD1(m, n):\n",
    "\n",
    "    # Step 1&2: Find the prime factors of m and n\n",
    "    factors_m = naive_prime_factorization(m)\n",
    "    factors_n = naive_prime_factorization(n)\n",
    "\n",
    "    # print(f\"Prime factors of {m}: {factors_m}\")\n",
    "    # print(f\"Prime factors of {n}: {factors_n}\")\n",
    "\n",
    "    # Step 3: Find all the common prime factors\n",
    "    common_factors = []\n",
    "    for i in factors_m:\n",
    "        if i in factors_n:\n",
    "            common_factors.append(i)\n",
    "\n",
    "    # Step 4: Step 4 Compute the product of all the common prime factors and return it as gcd(m,n)\n",
    "    gcd = 1\n",
    "    for i in common_factors:\n",
    "        gcd *= i\n",
    "\n",
    "    return gcd"
   ]
  },
  {
   "cell_type": "markdown",
   "metadata": {},
   "source": [
    "# Sieve of Eratosthenes"
   ]
  },
  {
   "cell_type": "code",
   "execution_count": 3,
   "metadata": {},
   "outputs": [],
   "source": [
    "def sieve_of_eratosthenes_prime_finder(n):\n",
    "\n",
    "    sieve = [True] * (n + 1) # Create a sive of Eratosthenes of size n+1\n",
    "\n",
    "    # First prime number is 2\n",
    "    p = 2\n",
    "    while p * p <= n:\n",
    "\n",
    "        # If sieve[p] is not changed, then it is a prime\n",
    "        if sieve[p]:\n",
    "\n",
    "            # Update all multiples of p\n",
    "            for i in range(p * p, n + 1, p):\n",
    "                sieve[i] = False # i is not a prime\n",
    "\n",
    "        p += 1\n",
    "\n",
    "    # Return a list of prime numbers\n",
    "    primes = []\n",
    "    for p in range(2, n + 1):\n",
    "        if sieve[p]:\n",
    "            primes.append(p)\n",
    "\n",
    "    return primes\n",
    "\n",
    "def sieve_of_eratosthenes_prime_factorization(n):\n",
    "\n",
    "    # Step 1: Find all the prime numbers less than or equal to n\n",
    "    primes = sieve_of_eratosthenes_prime_finder(n)\n",
    "\n",
    "    # Step 2: Find all the prime factors of n\n",
    "    factors = []\n",
    "    for i in primes:\n",
    "        while n % i == 0:\n",
    "            factors.append(i)\n",
    "            n //= i\n",
    "\n",
    "    # print(f\"{factors}\")\n",
    "\n",
    "    return factors\n",
    "\n",
    "def FindGCD2(m, n):\n",
    "\n",
    "     # Step 1&2: Find the prime factors of m and n\n",
    "    factors_m = sieve_of_eratosthenes_prime_factorization(m)\n",
    "    factors_n = sieve_of_eratosthenes_prime_factorization(n)\n",
    "\n",
    "    # print(f\"Prime factors of {m} are {factors_m}\")\n",
    "    # print(f\"Prime factors of {n} are {factors_n}\")\n",
    "\n",
    "    # Step 3: Find all the common prime factors\n",
    "    common_factors = []\n",
    "    for i in factors_m:\n",
    "        if i in factors_n:\n",
    "            common_factors.append(i)\n",
    "\n",
    "    # Step 4 Compute the product of all the common prime factors and return it as gcd(m,n)\n",
    "    gcd = 1\n",
    "    for i in common_factors:\n",
    "        gcd *= i\n",
    "\n",
    "    return gcd\n",
    "\n",
    "\n"
   ]
  },
  {
   "cell_type": "markdown",
   "metadata": {},
   "source": [
    "# Euclidean"
   ]
  },
  {
   "cell_type": "code",
   "execution_count": 4,
   "metadata": {},
   "outputs": [],
   "source": [
    "def FindGCD3(m, n):\n",
    "\n",
    "    if m == 0 and n == 0: return 0\n",
    "    if m == 0: return n\n",
    "    if n == 0: return m\n",
    "    if m == n: return m\n",
    "    \n",
    "    if m > n: \n",
    "         return FindGCD3(m % n, n)\n",
    "    \n",
    "    return FindGCD3(m, n % m)"
   ]
  },
  {
   "cell_type": "markdown",
   "metadata": {},
   "source": [
    "# The moment of truth"
   ]
  },
  {
   "cell_type": "code",
   "execution_count": 5,
   "metadata": {},
   "outputs": [
    {
     "name": "stdout",
     "output_type": "stream",
     "text": [
      "GCD of 98 and 98764 is 2, time taken: 3.695487976074219e-05 seconds\n",
      "GCD of 98 and 98764 is 2, time taken: 0.012950897216796875 seconds\n",
      "GCD of 98 and 98764 is 2, time taken: 3.0994415283203125e-06 seconds\n"
     ]
    }
   ],
   "source": [
    "m, n = map(int, input().split(\", \"))\n",
    "\n",
    "m = abs(m)\n",
    "n = abs(n)\n",
    "\n",
    "if m == 0 and n == 0:\n",
    "    print(\"GCD of 0 and 0 is not defined\")\n",
    "else:\n",
    "    start_time = time.time()\n",
    "    gcd_1 = FindGCD1(m, n)\n",
    "    end_time = time.time()\n",
    "    print(f\"GCD of {m} and {n} is {gcd_1}, time taken: {end_time - start_time} seconds\")\n",
    "\n",
    "    start_time = time.time()\n",
    "    gcd_2 = FindGCD2(m, n)\n",
    "    end_time = time.time()\n",
    "    print(f\"GCD of {m} and {n} is {gcd_2}, time taken: {end_time - start_time} seconds\")\n",
    "\n",
    "    start_time = time.time()\n",
    "    gcd_3 = FindGCD3(m, n)\n",
    "    end_time = time.time()\n",
    "    print(f\"GCD of {m} and {n} is {gcd_3}, time taken: {end_time - start_time} seconds\")\n"
   ]
  },
  {
   "cell_type": "code",
   "execution_count": 6,
   "metadata": {},
   "outputs": [
    {
     "name": "stdout",
     "output_type": "stream",
     "text": [
      "111 234\n",
      "GCD of 111 and 234 is 3, time taken: 1.3828277587890625e-05 seconds\n",
      "GCD of 111 and 234 is 3, time taken: 3.600120544433594e-05 seconds\n",
      "GCD of 111 and 234 is 3, time taken: 3.0994415283203125e-06 seconds\n",
      "60 225\n",
      "GCD of 60 and 225 is 15.0, time taken: 6.9141387939453125e-06 seconds\n",
      "GCD of 60 and 225 is 15, time taken: 2.6702880859375e-05 seconds\n",
      "GCD of 60 and 225 is 15, time taken: 9.5367431640625e-07 seconds\n"
     ]
    }
   ],
   "source": [
    "# Read input from file \n",
    "\n",
    "file = open(\"Example_LAB_1.txt\", \"r\")\n",
    "\n",
    "with open(\"Example_LAB_1.txt\", \"r\") as file:\n",
    "    data = file.readlines()\n",
    "\n",
    "    for line in data:\n",
    "        m, n = map(int, line.split(\", \"))\n",
    "        print(m, n)\n",
    "\n",
    "        start_time = time.time()\n",
    "        gcd_1 = FindGCD1(m, n)\n",
    "        end_time = time.time()\n",
    "        print(f\"GCD of {m} and {n} is {gcd_1}, time taken: {end_time - start_time} seconds\")\n",
    "\n",
    "        start_time = time.time()\n",
    "        gcd_2 = FindGCD2(m, n)\n",
    "        end_time = time.time()\n",
    "        print(f\"GCD of {m} and {n} is {gcd_2}, time taken: {end_time - start_time} seconds\")\n",
    "\n",
    "        start_time = time.time()\n",
    "        gcd_3 = FindGCD3(m, n)\n",
    "        end_time = time.time()\n",
    "        print(f\"GCD of {m} and {n} is {gcd_3}, time taken: {end_time - start_time} seconds\")\n",
    "\n"
   ]
  },
  {
   "cell_type": "markdown",
   "metadata": {},
   "source": [
    "# Performance Testing"
   ]
  },
  {
   "cell_type": "code",
   "execution_count": 7,
   "metadata": {},
   "outputs": [
    {
     "data": {
      "image/png": "[encoded data removed]",
      "text/plain": [
       "<Figure size 640x480 with 1 Axes>"
      ]
     },
     "metadata": {},
     "output_type": "display_data"
    },
    {
     "data": {
      "image/png": "[encoded data removed]",
      "text/plain": [
       "<Figure size 640x480 with 1 Axes>"
      ]
     },
     "metadata": {},
     "output_type": "display_data"
    }
   ],
   "source": [
    "# Random 10 numbers\n",
    "numbers = np.random.randint(10, 10000, 10)\n",
    "\n",
    "# Performance testing \n",
    "def execute_pf_navie(number):\n",
    "\n",
    "    execution_time = np.array([])\n",
    "\n",
    "    for n in numbers:\n",
    "        start_time = time.time()\n",
    "        naive_prime_factorization(n)\n",
    "        end_time = time.time()\n",
    "\n",
    "        execution_time = np.append(execution_time, end_time - start_time)\n",
    "\n",
    "    x_axis = numbers\n",
    "    y_axis = execution_time\n",
    "\n",
    "    # Plot the execution time\n",
    "    fig, ax = plt.subplots()\n",
    "    ax.scatter(x_axis, y_axis)\n",
    "\n",
    "    for i in range(len(x_axis)):\n",
    "        ax.annotate(x_axis[i], (x_axis[i], y_axis[i]))\n",
    "    plt.ylabel('Execution time')\n",
    "    plt.xlabel('Input')\n",
    "    plt.title('Naive prime factorization')\n",
    "    plt.show()\n",
    "\n",
    "def execute_pf_sieve(number):\n",
    "\n",
    "    execution_time = np.array([])\n",
    "\n",
    "    for n in numbers:\n",
    "        start_time = time.time()\n",
    "        sieve_of_eratosthenes_prime_factorization(n)\n",
    "        end_time = time.time()\n",
    "\n",
    "        execution_time = np.append(execution_time, end_time - start_time)\n",
    "\n",
    "    x_axis = numbers\n",
    "    y_axis = execution_time\n",
    "\n",
    "    # Plot the execution time\n",
    "\n",
    "    fig, ax = plt.subplots()\n",
    "    ax.scatter(x_axis, y_axis)\n",
    "\n",
    "    for i in range(len(x_axis)):\n",
    "        ax.annotate(x_axis[i], (x_axis[i], y_axis[i]))\n",
    "    \n",
    "    plt.ylabel('Execution time')\n",
    "    plt.xlabel('Input')\n",
    "    plt.title('Sieve of Eratosthenes prime factorization')\n",
    "    plt.show()\n",
    "\n",
    "execute_pf_navie(numbers)\n",
    "execute_pf_sieve(numbers)"
   ]
  },
  {
   "cell_type": "markdown",
   "metadata": {},
   "source": [
    "# Testing"
   ]
  },
  {
   "cell_type": "code",
   "execution_count": 8,
   "metadata": {},
   "outputs": [
    {
     "name": "stdout",
     "output_type": "stream",
     "text": [
      "8\n"
     ]
    }
   ],
   "source": [
    "print(FindGCD2(120, 16))"
   ]
  }
 ],
 "metadata": {
  "kernelspec": {
   "display_name": "py311",
   "language": "python",
   "name": "python3"
  },
  "language_info": {
   "codemirror_mode": {
    "name": "ipython",
    "version": 3
   },
   "file_extension": ".py",
   "mimetype": "text/x-python",
   "name": "python",
   "nbconvert_exporter": "python",
   "pygments_lexer": "ipython3",
   "version": "3.11.3"
  },
  "orig_nbformat": 4
 },
 "nbformat": 4,
 "nbformat_minor": 2
}
