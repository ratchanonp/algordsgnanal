{
 "cells": [
  {
   "cell_type": "code",
   "execution_count": 1,
   "metadata": {},
   "outputs": [],
   "source": [
    "def transitive_closure(adjMatrix, nVertices):\n",
    "    closure = [[[False for _ in range(nVertices + 1)] for _ in range(nVertices + 1)] for _ in range(nVertices + 1)]\n",
    "    \n",
    "    # Closure of length 0 is just the adjacency matrix\n",
    "    for i in range(1, nVertices + 1):\n",
    "        for j in range(1, nVertices + 1):\n",
    "            closure[0][i][j] = adjMatrix[i][j] == 1 or (i == j)\n",
    "    \n",
    "    # Compute the closure for lengths 1 through nVertices\n",
    "    for k in range(1, nVertices + 1):\n",
    "        for i in range(1, nVertices + 1):\n",
    "            for j in range(1, nVertices + 1):\n",
    "                closure[k][i][j] = closure[k - 1][i][j] or (closure[k - 1][i][k] and closure[k - 1][k][j])\n",
    "    \n",
    "    # Return the final result\n",
    "    return closure[nVertices]"
   ]
  },
  {
   "cell_type": "code",
   "execution_count": null,
   "metadata": {},
   "outputs": [],
   "source": [
    "nVertices, nEdges = map(int, input().split())\n",
    "\n",
    "# First input\n",
    "while nVertices != 0 and nEdges != 0:\n",
    "    # Adjacency matrix initial value is 0\n",
    "    adjMatrix = [[0 for _ in range(nVertices + 1)] for _ in range(nVertices + 1)]\n",
    "\n",
    "    # Read edges\n",
    "    # 1 - Mean there is an edge between two vertices from src to dest\n",
    "    # 2 - Mean there is no edge between two vertices from src to dest both ways\n",
    "    for _ in range(nEdges):\n",
    "        src, dest, direction = map(int, input().split())\n",
    "        if direction == 1:\n",
    "            adjMatrix[src][dest] = 1\n",
    "        elif direction == 2:\n",
    "            adjMatrix[src][dest] = 1\n",
    "            adjMatrix[dest][src] = 1\n",
    "\n",
    "    transitive_closure_result = transitive_closure(adjMatrix, nVertices)\n",
    "\n",
    "    # Check every vertices is reachable from every vertices\n",
    "    isStrongConnected = True\n",
    "    for i in range(1, nVertices + 1):\n",
    "        for j in range(1, nVertices + 1):\n",
    "            if not transitive_closure_result[i][j]:\n",
    "                isStrongConnected = False\n",
    "                break\n",
    "\n",
    "    if isStrongConnected:\n",
    "        print('1')\n",
    "    else:\n",
    "        print('0')\n",
    "\n",
    "    # Next input\n",
    "    nVertices, nEdges = map(int, input().split())"
   ]
  }
 ],
 "metadata": {
  "kernelspec": {
   "display_name": "py311",
   "language": "python",
   "name": "python3"
  },
  "language_info": {
   "codemirror_mode": {
    "name": "ipython",
    "version": 3
   },
   "file_extension": ".py",
   "mimetype": "text/x-python",
   "name": "python",
   "nbconvert_exporter": "python",
   "pygments_lexer": "ipython3",
   "version": "3.11.5"
  }
 },
 "nbformat": 4,
 "nbformat_minor": 2
}
