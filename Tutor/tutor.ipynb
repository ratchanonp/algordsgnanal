{
 "cells": [
  {
   "cell_type": "code",
   "execution_count": 8,
   "metadata": {},
   "outputs": [],
   "source": [
    "def recsum1(x):\n",
    "    print(\"Call\" + str(x))\n",
    "    if (x == 1):\n",
    "        return 1\n",
    "    \n",
    "\n",
    "    else:\n",
    "        call = x + recsum1(x-1)\n",
    "        print(call)\n",
    "        return call\n",
    "    "
   ]
  },
  {
   "cell_type": "code",
   "execution_count": 9,
   "metadata": {},
   "outputs": [
    {
     "name": "stdout",
     "output_type": "stream",
     "text": [
      "Call5\n",
      "Call4\n",
      "Call3\n",
      "Call2\n",
      "Call1\n",
      "3\n",
      "6\n",
      "10\n",
      "15\n"
     ]
    },
    {
     "data": {
      "text/plain": [
       "15"
      ]
     },
     "execution_count": 9,
     "metadata": {},
     "output_type": "execute_result"
    }
   ],
   "source": [
    "recsum1(5)"
   ]
  },
  {
   "cell_type": "code",
   "execution_count": 5,
   "metadata": {},
   "outputs": [],
   "source": [
    "def recsum2(x, running_total=0):\n",
    "    print(\"Call\" + str(x) + \" \" + str(running_total))\n",
    "    if (x == 0):\n",
    "        return running_total\n",
    "    \n",
    "\n",
    "    else:\n",
    "        call = recsum2(x-1, running_total+x)\n",
    "        print(\"Return\" + str(call))\n",
    "        return call"
   ]
  },
  {
   "cell_type": "code",
   "execution_count": 6,
   "metadata": {},
   "outputs": [
    {
     "name": "stdout",
     "output_type": "stream",
     "text": [
      "Call5 0\n",
      "Call4 5\n",
      "Call3 9\n",
      "Call2 12\n",
      "Call1 14\n",
      "Call0 15\n",
      "Return15\n",
      "Return15\n",
      "Return15\n",
      "Return15\n",
      "Return15\n"
     ]
    },
    {
     "data": {
      "text/plain": [
       "15"
      ]
     },
     "execution_count": 6,
     "metadata": {},
     "output_type": "execute_result"
    }
   ],
   "source": [
    "recsum2(5)"
   ]
  }
 ],
 "metadata": {
  "kernelspec": {
   "display_name": "py311",
   "language": "python",
   "name": "python3"
  },
  "language_info": {
   "codemirror_mode": {
    "name": "ipython",
    "version": 3
   },
   "file_extension": ".py",
   "mimetype": "text/x-python",
   "name": "python",
   "nbconvert_exporter": "python",
   "pygments_lexer": "ipython3",
   "version": "3.11.4"
  },
  "orig_nbformat": 4
 },
 "nbformat": 4,
 "nbformat_minor": 2
}
