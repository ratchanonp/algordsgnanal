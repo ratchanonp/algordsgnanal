{
 "cells": [
  {
   "cell_type": "markdown",
   "metadata": {},
   "source": [
    "# Find Path"
   ]
  },
  {
   "cell_type": "code",
   "execution_count": 1,
   "metadata": {},
   "outputs": [],
   "source": [
    "def find_path(graph, src, dest):\n",
    "    queue = []\n",
    "    queue.append([src])\n",
    "\n",
    "    while queue:\n",
    "        path = queue.pop(0)\n",
    "        current_node = path[-1]\n",
    "\n",
    "        if current_node == dest:\n",
    "            print(f\"Path from {src} to {dest}: {path}\")\n",
    "\n",
    "        # Traverse\n",
    "        for i in range(len(graph[current_node])):\n",
    "            if graph[current_node][i] == 1:\n",
    "                if i not in path:\n",
    "                    new_path = list(path)\n",
    "                    new_path.append(i)\n",
    "                    queue.append(new_path)\n",
    "\n",
    "        "
   ]
  },
  {
   "cell_type": "code",
   "execution_count": 2,
   "metadata": {},
   "outputs": [],
   "source": [
    "def find_path_recursive(graph, src, dest):\n",
    "\n",
    "     visited = [False] * len(graph)\n",
    "     visited[src] = True\n",
    "\n",
    "     def traverse(current_node, path, visited):\n",
    "           if current_node == dest:\n",
    "                print(f\"Path from {src} to {dest}: {path}\")\n",
    "           else:\n",
    "                for i in range(len(graph[current_node])):\n",
    "                     if graph[current_node][i] == 1 and not visited[i]:\n",
    "                         new_path = list(path)\n",
    "                         new_path.append(i)\n",
    "                         \n",
    "                         new_visited = list(visited)\n",
    "                         new_visited[i] = True\n",
    "                        \n",
    "                         traverse(i, new_path, new_visited)\n",
    "     \n",
    "     traverse(src, [src], visited)"
   ]
  },
  {
   "cell_type": "markdown",
   "metadata": {},
   "source": [
    "# Hamiltoinan Path/Cycle\n",
    "\n",
    "So we have a graph, and we want to find a path that visits every vertex exactly once. This is called a Hamiltonian path. If the path starts and ends at the same vertex, it is called a Hamiltonian cycle.\n",
    "Now we have path finding function just make it check if it is a hamiltonian path by checking if it visits every vertex exactly once."
   ]
  },
  {
   "cell_type": "code",
   "execution_count": 13,
   "metadata": {},
   "outputs": [],
   "source": [
    "def find_hamiltonian_path(graph):\n",
    "\n",
    "    def traverse(current_node, path, visited):\n",
    "        if len(path) == len(graph):\n",
    "            print(f\"Hamiltonian path: {path}\", end=\"\")\n",
    "\n",
    "            # Check it is a cycle\n",
    "            # If the last node is connected to the first node\n",
    "            if graph[path[-1]][path[0]] == 1:\n",
    "                print(\" (cycle)\", end=\"\")\n",
    "            \n",
    "            print()\n",
    "\n",
    "        else:\n",
    "            for i in range(len(graph[current_node])):\n",
    "                if graph[current_node][i] == 1 and not visited[i]:\n",
    "                    new_path = list(path)\n",
    "                    new_path.append(i)\n",
    "\n",
    "                    new_visited = list(visited)\n",
    "                    new_visited[i] = True\n",
    "\n",
    "                    traverse(i, new_path, new_visited)\n",
    "\n",
    "    for i in range(len(graph)):\n",
    "        visited = [False] * len(graph)\n",
    "        visited[i] = True\n",
    "        \n",
    "        traverse(i, [i], visited)"
   ]
  },
  {
   "cell_type": "markdown",
   "metadata": {},
   "source": [
    "# Utility Functions"
   ]
  },
  {
   "cell_type": "code",
   "execution_count": 3,
   "metadata": {},
   "outputs": [],
   "source": [
    "def read_adjacency_matrix_file(file: str) -> list[list[int]]:\n",
    "    with open(file, 'r') as f:\n",
    "        lines = f.readlines()\n",
    "        graph = []\n",
    "\n",
    "        for line in lines:\n",
    "            graph.append([int(x) for x in line.split()])\n",
    "\n",
    "        return graph"
   ]
  },
  {
   "cell_type": "markdown",
   "metadata": {},
   "source": [
    "# Execute Code"
   ]
  },
  {
   "cell_type": "code",
   "execution_count": 16,
   "metadata": {},
   "outputs": [
    {
     "name": "stdout",
     "output_type": "stream",
     "text": [
      "Iterative\n",
      "Path from 0 to 5: [0, 5]\n",
      "Path from 0 to 5: [0, 1, 2, 3, 4, 5]\n",
      "\n",
      "Recursive\n",
      "Path from 0 to 5: [0, 1, 2, 3, 4, 5]\n",
      "Path from 0 to 5: [0, 5]\n",
      "\n",
      "Hamiltonian\n",
      "Hamiltonian path: [0, 1, 2, 3, 4, 5] (cycle)\n",
      "Hamiltonian path: [0, 5, 4, 3, 2, 1] (cycle)\n",
      "Hamiltonian path: [1, 0, 5, 4, 3, 2] (cycle)\n",
      "Hamiltonian path: [1, 2, 3, 4, 5, 0] (cycle)\n",
      "Hamiltonian path: [2, 1, 0, 5, 4, 3] (cycle)\n",
      "Hamiltonian path: [2, 3, 4, 5, 0, 1] (cycle)\n",
      "Hamiltonian path: [3, 2, 1, 0, 5, 4] (cycle)\n",
      "Hamiltonian path: [3, 4, 5, 0, 1, 2] (cycle)\n",
      "Hamiltonian path: [4, 3, 2, 1, 0, 5] (cycle)\n",
      "Hamiltonian path: [4, 5, 0, 1, 2, 3] (cycle)\n",
      "Hamiltonian path: [5, 0, 1, 2, 3, 4] (cycle)\n",
      "Hamiltonian path: [5, 4, 3, 2, 1, 0] (cycle)\n"
     ]
    }
   ],
   "source": [
    "input_file = \"test/Example_LAB2.txt\"\n",
    "\n",
    "graph = read_adjacency_matrix_file(input_file)\n",
    "\n",
    "source = 0\n",
    "destination = 5\n",
    "\n",
    "print(\"Iterative\")\n",
    "find_path(graph, source, destination)\n",
    "\n",
    "print(\"\\nRecursive\")\n",
    "find_path_recursive(graph, source, destination)\n",
    "\n",
    "print(\"\\nHamiltonian\")\n",
    "find_hamiltonian_path(graph)\n"
   ]
  }
 ],
 "metadata": {
  "kernelspec": {
   "display_name": "py311",
   "language": "python",
   "name": "python3"
  },
  "language_info": {
   "codemirror_mode": {
    "name": "ipython",
    "version": 3
   },
   "file_extension": ".py",
   "mimetype": "text/x-python",
   "name": "python",
   "nbconvert_exporter": "python",
   "pygments_lexer": "ipython3",
   "version": "3.11.3"
  },
  "orig_nbformat": 4
 },
 "nbformat": 4,
 "nbformat_minor": 2
}
