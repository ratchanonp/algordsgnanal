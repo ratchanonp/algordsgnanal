{
 "cells": [
  {
   "cell_type": "markdown",
   "metadata": {},
   "source": [
    "# Find Path"
   ]
  },
  {
   "cell_type": "code",
   "execution_count": null,
   "metadata": {},
   "outputs": [],
   "source": [
    "def find_path(graph, src, dest):\n",
    "    queue = []\n",
    "    queue.append([src])\n",
    "\n",
    "    while queue:\n",
    "        path = queue.pop(0)\n",
    "        current_node = path[-1]\n",
    "\n",
    "        if current_node == dest:\n",
    "            print(f\"Path from {src} to {dest}: {path}\")\n",
    "\n",
    "        # Traverse\n",
    "        for i in range(len(graph[current_node])):\n",
    "            if graph[current_node][i] == 1:\n",
    "                if i not in path:\n",
    "                    new_path = list(path)\n",
    "                    new_path.append(i)\n",
    "                    queue.append(new_path)"
   ]
  },
  {
   "cell_type": "code",
   "execution_count": null,
   "metadata": {},
   "outputs": [],
   "source": [
    "def find_path_recursive(graph, src, dest):\n",
    "\n",
    "    visited = [False] * len(graph)\n",
    "    visited[src] = True\n",
    "\n",
    "    n_Vertices = len(graph)\n",
    "\n",
    "    def traverse(current_node, path, visited):\n",
    "        if current_node == dest:\n",
    "            print(f\"Path from {src} to {dest}: {path}\")\n",
    "        else:\n",
    "            for i in range(n_Vertices):\n",
    "                if graph[current_node][i] == 1 and not visited[i]:\n",
    "                    new_path = list(path)\n",
    "                    new_path.append(i)\n",
    "                         \n",
    "                    new_visited = list(visited)\n",
    "                    new_visited[i] = True\n",
    "                        \n",
    "                    traverse(i, new_path, new_visited)\n",
    "     \n",
    "    path = [src]\n",
    "    traverse(src, path, visited)"
   ]
  },
  {
   "cell_type": "markdown",
   "metadata": {},
   "source": [
    "# Hamiltoinan Path/Cycle\n",
    "\n",
    "So we have a graph, and we want to find a path that visits every vertex exactly once. This is called a Hamiltonian path. If the path starts and ends at the same vertex, it is called a Hamiltonian cycle.\n",
    "Now we have path finding function just make it check if it is a hamiltonian path by checking if it visits every vertex exactly once."
   ]
  },
  {
   "cell_type": "code",
   "execution_count": null,
   "metadata": {},
   "outputs": [],
   "source": [
    "def find_hamiltonian_path(graph):\n",
    "\n",
    "    n_Vertices = len(graph)\n",
    "\n",
    "    def traverse(current_node, path, visited):\n",
    "        if len(path) == len(graph):\n",
    "            print(f\"Hamiltonian path: {path}\", end=\"\")\n",
    "\n",
    "            # Check it is a cycle\n",
    "            # If the last node is connected to the first node\n",
    "            if graph[path[-1]][path[0]] == 1:\n",
    "                print(\" (cycle)\", end=\"\")\n",
    "            \n",
    "            print()\n",
    "\n",
    "        else:\n",
    "            for i in range(n_Vertices):\n",
    "                if graph[current_node][i] == 1 and not visited[i]:\n",
    "                    new_path = list(path)\n",
    "                    new_path.append(i)\n",
    "\n",
    "                    new_visited = list(visited)\n",
    "                    new_visited[i] = True\n",
    "\n",
    "                    traverse(i, new_path, new_visited)\n",
    "\n",
    "    for i in range(len(graph)):\n",
    "        visited = [False] * len(graph)\n",
    "        visited[i] = True\n",
    "        \n",
    "        traverse(i, [i], visited)"
   ]
  },
  {
   "cell_type": "markdown",
   "metadata": {},
   "source": [
    "# Utility Functions"
   ]
  },
  {
   "cell_type": "code",
   "execution_count": null,
   "metadata": {},
   "outputs": [],
   "source": [
    "def read_adjacency_matrix_file(file: str) -> list[list[int]]:\n",
    "    with open(file, 'r') as f:\n",
    "        lines = f.readlines()\n",
    "        graph = []\n",
    "\n",
    "        for line in lines:\n",
    "            graph.append([int(x) for x in line.split()])\n",
    "\n",
    "        return graph"
   ]
  },
  {
   "cell_type": "markdown",
   "metadata": {},
   "source": [
    "# Execute Code"
   ]
  },
  {
   "cell_type": "code",
   "execution_count": null,
   "metadata": {},
   "outputs": [],
   "source": [
    "input_file = \"test/Example_LAB2.txt\"\n",
    "\n",
    "graph = read_adjacency_matrix_file(input_file)\n",
    "\n",
    "source = 0\n",
    "destination = 5\n",
    "\n",
    "print(\"Iterative\")\n",
    "find_path(graph, source, destination)\n",
    "\n",
    "print(\"\\nRecursive\")\n",
    "find_path_recursive(graph, source, destination)\n",
    "\n",
    "print(\"\\nHamiltonian\")\n",
    "find_hamiltonian_path(graph)\n"
   ]
  },
  {
   "cell_type": "code",
   "execution_count": 8,
   "metadata": {},
   "outputs": [
    {
     "name": "stdout",
     "output_type": "stream",
     "text": [
      "File: 2.2.7.txt\n"
     ]
    },
    {
     "ename": "FileNotFoundError",
     "evalue": "[Errno 2] No such file or directory: 'test/2.2.7.txt'",
     "output_type": "error",
     "traceback": [
      "\u001b[0;31m---------------------------------------------------------------------------\u001b[0m",
      "\u001b[0;31mFileNotFoundError\u001b[0m                         Traceback (most recent call last)",
      "Cell \u001b[0;32mIn[8], line 10\u001b[0m\n\u001b[1;32m      7\u001b[0m \u001b[39mfor\u001b[39;00m file \u001b[39min\u001b[39;00m files:\n\u001b[1;32m      8\u001b[0m     \u001b[39mprint\u001b[39m(\u001b[39mf\u001b[39m\u001b[39m\"\u001b[39m\u001b[39mFile: \u001b[39m\u001b[39m{\u001b[39;00mfile\u001b[39m}\u001b[39;00m\u001b[39m\"\u001b[39m)\n\u001b[0;32m---> 10\u001b[0m     graph \u001b[39m=\u001b[39m read_adjacency_matrix_file(\u001b[39mf\u001b[39;49m\u001b[39m\"\u001b[39;49m\u001b[39mtest/\u001b[39;49m\u001b[39m{\u001b[39;49;00mfile\u001b[39m}\u001b[39;49;00m\u001b[39m\"\u001b[39;49m)\n\u001b[1;32m     12\u001b[0m     source \u001b[39m=\u001b[39m \u001b[39m0\u001b[39m\n\u001b[1;32m     13\u001b[0m     destination \u001b[39m=\u001b[39m \u001b[39mlen\u001b[39m(graph) \u001b[39m-\u001b[39m \u001b[39m1\u001b[39m\n",
      "Cell \u001b[0;32mIn[4], line 2\u001b[0m, in \u001b[0;36mread_adjacency_matrix_file\u001b[0;34m(file)\u001b[0m\n\u001b[1;32m      1\u001b[0m \u001b[39mdef\u001b[39;00m \u001b[39mread_adjacency_matrix_file\u001b[39m(file: \u001b[39mstr\u001b[39m) \u001b[39m-\u001b[39m\u001b[39m>\u001b[39m \u001b[39mlist\u001b[39m[\u001b[39mlist\u001b[39m[\u001b[39mint\u001b[39m]]:\n\u001b[0;32m----> 2\u001b[0m     \u001b[39mwith\u001b[39;00m \u001b[39mopen\u001b[39;49m(file, \u001b[39m'\u001b[39;49m\u001b[39mr\u001b[39;49m\u001b[39m'\u001b[39;49m) \u001b[39mas\u001b[39;00m f:\n\u001b[1;32m      3\u001b[0m         lines \u001b[39m=\u001b[39m f\u001b[39m.\u001b[39mreadlines()\n\u001b[1;32m      4\u001b[0m         graph \u001b[39m=\u001b[39m []\n",
      "File \u001b[0;32m~/anaconda3/envs/py311/lib/python3.11/site-packages/IPython/core/interactiveshell.py:284\u001b[0m, in \u001b[0;36m_modified_open\u001b[0;34m(file, *args, **kwargs)\u001b[0m\n\u001b[1;32m    277\u001b[0m \u001b[39mif\u001b[39;00m file \u001b[39min\u001b[39;00m {\u001b[39m0\u001b[39m, \u001b[39m1\u001b[39m, \u001b[39m2\u001b[39m}:\n\u001b[1;32m    278\u001b[0m     \u001b[39mraise\u001b[39;00m \u001b[39mValueError\u001b[39;00m(\n\u001b[1;32m    279\u001b[0m         \u001b[39mf\u001b[39m\u001b[39m\"\u001b[39m\u001b[39mIPython won\u001b[39m\u001b[39m'\u001b[39m\u001b[39mt let you open fd=\u001b[39m\u001b[39m{\u001b[39;00mfile\u001b[39m}\u001b[39;00m\u001b[39m by default \u001b[39m\u001b[39m\"\u001b[39m\n\u001b[1;32m    280\u001b[0m         \u001b[39m\"\u001b[39m\u001b[39mas it is likely to crash IPython. If you know what you are doing, \u001b[39m\u001b[39m\"\u001b[39m\n\u001b[1;32m    281\u001b[0m         \u001b[39m\"\u001b[39m\u001b[39myou can use builtins\u001b[39m\u001b[39m'\u001b[39m\u001b[39m open.\u001b[39m\u001b[39m\"\u001b[39m\n\u001b[1;32m    282\u001b[0m     )\n\u001b[0;32m--> 284\u001b[0m \u001b[39mreturn\u001b[39;00m io_open(file, \u001b[39m*\u001b[39;49margs, \u001b[39m*\u001b[39;49m\u001b[39m*\u001b[39;49mkwargs)\n",
      "\u001b[0;31mFileNotFoundError\u001b[0m: [Errno 2] No such file or directory: 'test/2.2.7.txt'"
     ]
    }
   ],
   "source": [
    "# Get files from folder\n",
    "\n",
    "import os\n",
    "\n",
    "files = os.listdir(\"test/Extra\")\n",
    "\n",
    "for file in files:\n",
    "    print(f\"File: {file}\")\n",
    "\n",
    "    graph = read_adjacency_matrix_file(f\"test/Extra/{file}\")\n",
    "\n",
    "    source = 0\n",
    "    destination = len(graph) - 1\n",
    "\n",
    "    print(\"Find path\")\n",
    "    find_path_recursive(graph, source, destination)\n",
    "\n",
    "    print(\"\\nFind hamiltonian path\")\n",
    "    find_hamiltonian_path(graph)\n",
    "    "
   ]
  }
 ],
 "metadata": {
  "kernelspec": {
   "display_name": "py311",
   "language": "python",
   "name": "python3"
  },
  "language_info": {
   "codemirror_mode": {
    "name": "ipython",
    "version": 3
   },
   "file_extension": ".py",
   "mimetype": "text/x-python",
   "name": "python",
   "nbconvert_exporter": "python",
   "pygments_lexer": "ipython3",
   "version": "3.11.3"
  },
  "orig_nbformat": 4
 },
 "nbformat": 4,
 "nbformat_minor": 2
}
