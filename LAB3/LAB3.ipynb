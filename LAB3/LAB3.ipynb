{
 "cells": [
  {
   "cell_type": "markdown",
   "metadata": {},
   "source": [
    "# Brute force"
   ]
  },
  {
   "cell_type": "code",
   "execution_count": 7,
   "metadata": {},
   "outputs": [],
   "source": [
    "road = \"GGPPPPGGGGPPGPP\" #  G = Taxi, P = Passenger\n",
    "fuel = 3 # Maximum distance the car can travel"
   ]
  },
  {
   "cell_type": "code",
   "execution_count": 8,
   "metadata": {},
   "outputs": [],
   "source": [
    "def max_passenger_brute_force(road, fuel):\n",
    "    # Preprocess the road\n",
    "    grab_index = [i for i in range(len(road)) if road[i] == 'G']\n",
    "    passenger_index = [i for i in range(len(road)) if road[i] == 'P']\n",
    "\n",
    "    # Brute force\n",
    "    passenger_count = 0\n",
    "\n",
    "    i, j = 0, 0\n",
    "\n",
    "    while i < len(grab_index) and j < len(passenger_index):\n",
    "        if abs(grab_index[i] - passenger_index[j]) <= fuel:\n",
    "            passenger_count += 1\n",
    "            print(f\"Taxi at {i} picks up passenger at {j}\")\n",
    "            i += 1\n",
    "            j += 1\n",
    "        elif grab_index[i] < passenger_index[j]:\n",
    "            i += 1\n",
    "        else:\n",
    "            j += 1\n",
    "    \n",
    "    return passenger_count"
   ]
  },
  {
   "cell_type": "code",
   "execution_count": 9,
   "metadata": {},
   "outputs": [
    {
     "name": "stdout",
     "output_type": "stream",
     "text": [
      "7\n"
     ]
    }
   ],
   "source": [
    "print(max_passenger_brute_force(road, fuel))"
   ]
  },
  {
   "cell_type": "markdown",
   "metadata": {},
   "source": [
    "# Greedy Algorithm"
   ]
  },
  {
   "cell_type": "code",
   "execution_count": 24,
   "metadata": {},
   "outputs": [],
   "source": [
    "def max_passenger_greedy(road, k):\n",
    "\n",
    "    road = list(road)\n",
    "    passenger = 0\n",
    "\n",
    "    for i in range(len(road)):\n",
    "        if road[i] == 'G':\n",
    "            lower_bound = max(0, i - k)\n",
    "            upper_bound = min(len(road) - 1, i + k)\n",
    "\n",
    "            for j in range(lower_bound, upper_bound):\n",
    "                if road[j] == 'P':\n",
    "                    print(f\"Taxi at {i} picks up passenger at {j}\")\n",
    "                    passenger += 1\n",
    "                    road[j] = 'X'\n",
    "                    break\n",
    "\n",
    "    return passenger"
   ]
  },
  {
   "cell_type": "code",
   "execution_count": 11,
   "metadata": {},
   "outputs": [
    {
     "name": "stdout",
     "output_type": "stream",
     "text": [
      "7\n"
     ]
    }
   ],
   "source": [
    "print(max_passenger_greedy(road, fuel))"
   ]
  },
  {
   "cell_type": "code",
   "execution_count": 25,
   "metadata": {},
   "outputs": [
    {
     "name": "stdout",
     "output_type": "stream",
     "text": [
      "3\n",
      "Taxi at 0 picks up passenger at 1\n",
      "Taxi at 3 picks up passenger at 2\n",
      "2\n"
     ]
    }
   ],
   "source": [
    "file_path = \"./test/Extra/3.5.2.txt\"    \n",
    "\n",
    "with open(file_path, \"r\") as f:\n",
    "    road = f.readline().strip()\n",
    "    fuel = int(f.readline().strip())\n",
    "\n",
    "    print(max_passenger_brute_force(road, fuel))\n",
    "    print(max_passenger_greedy(road, fuel))"
   ]
  },
  {
   "cell_type": "code",
   "execution_count": 22,
   "metadata": {},
   "outputs": [
    {
     "name": "stdout",
     "output_type": "stream",
     "text": [
      "3.4.4.txt\n",
      "978\n",
      "978\n",
      "3.4.5.txt\n",
      "30\n",
      "30\n",
      "3.4.2.txt\n",
      "150\n",
      "150\n",
      "3.4.3.txt\n",
      "260\n",
      "260\n",
      "3.4.1.txt\n",
      "8\n",
      "8\n",
      "3.5.1.txt\n",
      "3\n",
      "2\n",
      "3.5.2.txt\n",
      "3\n",
      "2\n",
      "3.5.3.txt\n",
      "3\n",
      "3\n"
     ]
    }
   ],
   "source": [
    "import os\n",
    "path = \"./test/Extra\"\n",
    "\n",
    "for filename in os.listdir(path):\n",
    "    print(filename)\n",
    "\n",
    "    with open(path + \"/\" + filename, \"r\") as f:\n",
    "        road = f.readline().strip()\n",
    "        fuel = int(f.readline().strip())\n",
    "\n",
    "        print(max_passenger_brute_force(road, fuel))\n",
    "        print(max_passenger_greedy(road, fuel))"
   ]
  },
  {
   "cell_type": "markdown",
   "metadata": {},
   "source": [
    "# Jam"
   ]
  },
  {
   "cell_type": "code",
   "execution_count": 15,
   "metadata": {},
   "outputs": [],
   "source": [
    "def max_passenger_jam(array, k):\n",
    "    count = 0\n",
    "\n",
    "    # buit check array contain True\n",
    "    check = []\n",
    "    for i in range(len(array)):\n",
    "        check.append(True)\n",
    "\n",
    "\n",
    "    for index in range (len(array)):\n",
    "        if array[index] == \"G\" :\n",
    "            #print(index)\n",
    "        \n",
    "            for space in range(-k,k+1): \n",
    "                check_index = index + space\n",
    "\n",
    "                if 0 <= check_index <= len(array)-1:\n",
    "                    if array[check_index] == \"P\" and check[check_index] != False and check[index] != False :\n",
    "                        check[check_index] = False\n",
    "                        check[index] = False\n",
    "                        count = count+1\n",
    "    \n",
    "    return count"
   ]
  }
 ],
 "metadata": {
  "kernelspec": {
   "display_name": "py311",
   "language": "python",
   "name": "python3"
  },
  "language_info": {
   "codemirror_mode": {
    "name": "ipython",
    "version": 3
   },
   "file_extension": ".py",
   "mimetype": "text/x-python",
   "name": "python",
   "nbconvert_exporter": "python",
   "pygments_lexer": "ipython3",
   "version": "3.11.4"
  },
  "orig_nbformat": 4
 },
 "nbformat": 4,
 "nbformat_minor": 2
}
