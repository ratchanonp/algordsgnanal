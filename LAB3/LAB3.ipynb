{
 "cells": [
  {
   "cell_type": "code",
   "execution_count": 19,
   "metadata": {},
   "outputs": [],
   "source": [
    "import os\n",
    "import itertools"
   ]
  },
  {
   "cell_type": "code",
   "execution_count": 20,
   "metadata": {},
   "outputs": [],
   "source": [
    "road = \"GGPPPPGGGGPPGPP\" #  G = Taxi, P = Passenger\n",
    "fuel = 2"
   ]
  },
  {
   "cell_type": "markdown",
   "metadata": {},
   "source": [
    "# Brute force"
   ]
  },
  {
   "cell_type": "code",
   "execution_count": 34,
   "metadata": {},
   "outputs": [],
   "source": [
    "def canReachPassenger(solution, k):\n",
    "    \n",
    "    for pair in solution:\n",
    "        grab_pos, passenger_pos = pair\n",
    "        if abs(grab_pos - passenger_pos) > k:\n",
    "            return False\n",
    "        \n",
    "    return True"
   ]
  },
  {
   "cell_type": "code",
   "execution_count": 35,
   "metadata": {},
   "outputs": [],
   "source": [
    "def max_passenger_brute_force(road, fuel):\n",
    "\n",
    "    road = list(road)\n",
    "\n",
    "    grab_index = [i for i in range(len(road)) if road[i] == 'G']\n",
    "    passenger_index = [i for i in range(len(road)) if road[i] == 'P']\n",
    "\n",
    "    n_of_selectable = min(len(grab_index), len(passenger_index))\n",
    "\n",
    "    # Generate all possible combinations of grab and passenger index\n",
    "    grab_permutations = list(itertools.permutations(grab_index, n_of_selectable))\n",
    "    passenger_permutations = list(itertools.permutations(passenger_index, n_of_selectable))\n",
    "\n",
    "    # Get Passenger for each grab\n",
    "    possible_solutions = []\n",
    "    for grab in grab_permutations:\n",
    "        for passenger in passenger_permutations:\n",
    "            solution = list(zip(grab, passenger))\n",
    "\n",
    "            if canReachPassenger(solution, fuel):\n",
    "                possible_solutions.append(solution)\n",
    "\n",
    "    # Get max passenger\n",
    "    max_passenger = 0\n",
    "\n",
    "    for solution in possible_solutions:\n",
    "        print(solution)\n",
    "        passenger_count = len(solution)\n",
    "        if passenger_count > max_passenger:\n",
    "            max_passenger = passenger_count\n",
    "\n",
    "       \n",
    "\n",
    "    return max_passenger\n",
    "    "
   ]
  },
  {
   "cell_type": "markdown",
   "metadata": {},
   "source": [
    "# Greedy Algorithm"
   ]
  },
  {
   "cell_type": "code",
   "execution_count": 23,
   "metadata": {},
   "outputs": [],
   "source": [
    "def max_passenger_greedy_1(road, fuel):\n",
    "    # Preprocess the road\n",
    "    grab_index = [i for i in range(len(road)) if road[i] == 'G']\n",
    "    passenger_index = [i for i in range(len(road)) if road[i] == 'P']\n",
    "\n",
    "    passenger_count = 0\n",
    "\n",
    "    i, j = 0, 0\n",
    "\n",
    "    while i < len(grab_index) and j < len(passenger_index):\n",
    "        if abs(grab_index[i] - passenger_index[j]) <= fuel:\n",
    "            passenger_count += 1\n",
    "            i += 1\n",
    "            j += 1\n",
    "        elif grab_index[i] < passenger_index[j]:\n",
    "            i += 1\n",
    "        else:\n",
    "            j += 1\n",
    "    \n",
    "    return passenger_count"
   ]
  },
  {
   "cell_type": "code",
   "execution_count": 24,
   "metadata": {},
   "outputs": [],
   "source": [
    "def max_passenger_greedy_2(road, k):\n",
    "\n",
    "    road = list(road)\n",
    "    passenger = 0\n",
    "\n",
    "    for i in range(len(road)):\n",
    "        if road[i] == 'G':\n",
    "            lower_bound = max(0, i - k)\n",
    "            upper_bound = min(len(road) - 1, i + k)\n",
    "\n",
    "            for j in range(lower_bound, upper_bound + 1):\n",
    "                if road[j] == 'P':\n",
    "                    passenger += 1\n",
    "                    road[j] = 'X'\n",
    "                    break\n",
    "\n",
    "    return passenger"
   ]
  },
  {
   "cell_type": "code",
   "execution_count": 29,
   "metadata": {},
   "outputs": [],
   "source": [
    "def max_passenger_greedy_3(road, k):\n",
    "\n",
    "    road = list(road)\n",
    "    passenger = 0\n",
    "\n",
    "    for i in range(len(road)):\n",
    "        if road[i] == 'G':\n",
    "            lower_bound = max(0, i - k)\n",
    "            upper_bound = min(len(road) - 1, i + k)\n",
    "\n",
    "            for j in range(i, lower_bound - 1, -1):\n",
    "                if road[j] == 'P':\n",
    "                    passenger += 1\n",
    "                    road[j] = 'X'\n",
    "                    break\n",
    "            \n",
    "            for j in range(i, upper_bound + 1):\n",
    "                if road[j] == 'P':\n",
    "                    passenger += 1\n",
    "                    road[j] = 'X'\n",
    "                    break\n",
    "\n",
    "    return passenger"
   ]
  },
  {
   "cell_type": "markdown",
   "metadata": {},
   "source": [
    "# Moment of truth"
   ]
  },
  {
   "cell_type": "code",
   "execution_count": 39,
   "metadata": {},
   "outputs": [
    {
     "name": "stdout",
     "output_type": "stream",
     "text": [
      "[(0, 1), (2, 3), (4, 5)]\n",
      "[(0, 1), (2, 5), (4, 3)]\n",
      "[(0, 3), (2, 1), (4, 5)]\n",
      "[(0, 3), (2, 5), (4, 1)]\n",
      "[(0, 1), (4, 3), (2, 5)]\n",
      "[(0, 1), (4, 5), (2, 3)]\n",
      "[(0, 3), (4, 1), (2, 5)]\n",
      "[(0, 3), (4, 5), (2, 1)]\n",
      "[(2, 1), (0, 3), (4, 5)]\n",
      "[(2, 3), (0, 1), (4, 5)]\n",
      "[(2, 5), (0, 1), (4, 3)]\n",
      "[(2, 5), (0, 3), (4, 1)]\n",
      "[(2, 1), (4, 5), (0, 3)]\n",
      "[(2, 3), (4, 5), (0, 1)]\n",
      "[(2, 5), (4, 1), (0, 3)]\n",
      "[(2, 5), (4, 3), (0, 1)]\n",
      "[(4, 1), (0, 3), (2, 5)]\n",
      "[(4, 3), (0, 1), (2, 5)]\n",
      "[(4, 5), (0, 1), (2, 3)]\n",
      "[(4, 5), (0, 3), (2, 1)]\n",
      "[(4, 1), (2, 5), (0, 3)]\n",
      "[(4, 3), (2, 5), (0, 1)]\n",
      "[(4, 5), (2, 1), (0, 3)]\n",
      "[(4, 5), (2, 3), (0, 1)]\n",
      "Brute Force 1: 3\n",
      "Greedy 1: 3\n",
      "Greedy 2: 3\n"
     ]
    }
   ],
   "source": [
    "file_path = \"./test/Extra/3.5.1.txt\"    \n",
    "\n",
    "with open(file_path, \"r\") as f:\n",
    "    road = f.readline().strip()\n",
    "    fuel = int(f.readline().strip())\n",
    "\n",
    "    print(f\"Brute Force 1: {max_passenger_brute_force(road, fuel)}\")\n",
    "    print(f\"Greedy 1: {max_passenger_greedy_1(road, fuel)}\")\n",
    "    print(f\"Greedy 2: {max_passenger_greedy_2(road, fuel)}\")"
   ]
  },
  {
   "cell_type": "markdown",
   "metadata": {},
   "source": [
    "## Test Greedy Algorithm"
   ]
  },
  {
   "cell_type": "code",
   "execution_count": 31,
   "metadata": {},
   "outputs": [
    {
     "name": "stdout",
     "output_type": "stream",
     "text": [
      "File: ./test/Extra/3.4.4.txt:\n",
      "Greedy 1: 978\n",
      "Greedy 2: 980\n",
      "Greedy 3: 980\n",
      "\n",
      "File: ./test/Extra/3.4.5.txt:\n",
      "Greedy 1: 30\n",
      "Greedy 2: 36\n",
      "Greedy 3: 36\n",
      "\n",
      "File: ./test/Extra/3.4.2.txt:\n",
      "Greedy 1: 150\n",
      "Greedy 2: 299\n",
      "Greedy 3: 299\n",
      "\n",
      "File: ./test/Extra/3.4.3.txt:\n",
      "Greedy 1: 260\n",
      "Greedy 2: 518\n",
      "Greedy 3: 518\n",
      "\n",
      "File: ./test/Extra/3.4.1.txt:\n",
      "Greedy 1: 8\n",
      "Greedy 2: 9\n",
      "Greedy 3: 9\n",
      "\n",
      "File: ./test/Extra/3.5.1.txt:\n",
      "Greedy 1: 3\n",
      "Greedy 2: 3\n",
      "Greedy 3: 3\n",
      "\n",
      "File: ./test/Extra/3.5.2.txt:\n",
      "Greedy 1: 3\n",
      "Greedy 2: 3\n",
      "Greedy 3: 3\n",
      "\n",
      "File: ./test/Extra/3.5.3.txt:\n",
      "Greedy 1: 3\n",
      "Greedy 2: 3\n",
      "Greedy 3: 3\n",
      "\n",
      "File: ./test/normal/3.2.2.txt:\n",
      "Greedy 1: 7\n",
      "Greedy 2: 7\n",
      "Greedy 3: 7\n",
      "\n",
      "File: ./test/normal/3.2.3.txt:\n",
      "Greedy 1: 10\n",
      "Greedy 2: 8\n",
      "Greedy 3: 8\n",
      "\n",
      "File: ./test/normal/3.2.1.txt:\n",
      "Greedy 1: 10\n",
      "Greedy 2: 9\n",
      "Greedy 3: 9\n",
      "\n",
      "File: ./test/normal/3.3.1.txt:\n",
      "Greedy 1: 7\n",
      "Greedy 2: 7\n",
      "Greedy 3: 7\n",
      "\n",
      "File: ./test/normal/3.1.3.txt:\n",
      "Greedy 1: 5\n",
      "Greedy 2: 7\n",
      "Greedy 3: 7\n",
      "\n",
      "File: ./test/normal/3.1.2.txt:\n",
      "Greedy 1: 5\n",
      "Greedy 2: 5\n",
      "Greedy 3: 5\n",
      "\n",
      "File: ./test/normal/3.3.2.txt:\n",
      "Greedy 1: 10\n",
      "Greedy 2: 10\n",
      "Greedy 3: 10\n",
      "\n",
      "File: ./test/normal/3.1.1.txt:\n",
      "Greedy 1: 10\n",
      "Greedy 2: 10\n",
      "Greedy 3: 10\n",
      "\n",
      "File: ./test/normal/3.3.3.txt:\n",
      "Greedy 1: 5\n",
      "Greedy 2: 5\n",
      "Greedy 3: 5\n",
      "\n"
     ]
    }
   ],
   "source": [
    "path = \"./test\"\n",
    "\n",
    "dirs = os.listdir(path)\n",
    "\n",
    "for dir in dirs:\n",
    "    path = f\"./test/{dir}\"\n",
    "\n",
    "    for filename in os.listdir(path):\n",
    "        print(f\"File: {path}/{filename}:\")\n",
    "\n",
    "        with open(path + \"/\" + filename, \"r\") as f:\n",
    "            road = f.readline().strip()\n",
    "            fuel = int(f.readline().strip())\n",
    "\n",
    "            # print(f\"Brute Force 1: {max_passenger_brute_force(road, fuel)}\")\n",
    "            print(f\"Greedy 1: {max_passenger_greedy_1(road, fuel)}\")\n",
    "            print(f\"Greedy 2: {max_passenger_greedy_2(road, fuel)}\")\n",
    "            print(f\"Greedy 3: {max_passenger_greedy_3(road, fuel)}\")\n",
    "\n",
    "        print()"
   ]
  }
 ],
 "metadata": {
  "kernelspec": {
   "display_name": "py311",
   "language": "python",
   "name": "python3"
  },
  "language_info": {
   "codemirror_mode": {
    "name": "ipython",
    "version": 3
   },
   "file_extension": ".py",
   "mimetype": "text/x-python",
   "name": "python",
   "nbconvert_exporter": "python",
   "pygments_lexer": "ipython3",
   "version": "3.11.4"
  },
  "orig_nbformat": 4
 },
 "nbformat": 4,
 "nbformat_minor": 2
}
