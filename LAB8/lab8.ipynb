{
 "cells": [
  {
   "cell_type": "code",
   "execution_count": 1,
   "metadata": {},
   "outputs": [
    {
     "name": "stdout",
     "output_type": "stream",
     "text": [
      "[0, 0, 0, 1, 0, 1, 0, 1, 2, 0, 1, 2, 0, 1, 2, 3, 0, 1, 2, 3, 0, 1, 2, 3, 4, 0, 1, 2, 3, 4, 1, 2, 3, 4, 5, 2, 3, 4, 5, 3, 4, 5, 6, 4, 5, 6, 5, 6, 7, 6, 7, 7, 8, 8, 9, 0.5, 0, 1, 1.0, 0, 2, 1.5, 0, 3, 1.5, 1, 2, 2.0, 0, 4, 2.0, 1, 3, 2.5, 0, 5, 2.5, 1, 4, 2.5, 2, 3, 3.0, 0, 6, 3.0, 1, 5, 3.0, 2, 4, 3.5, 0, 7, 3.5, 1, 6, 3.5, 2, 5, 3.5, 3, 4, 4.0, 0, 8, 4.0, 1, 7, 4.0, 2, 6, 4.0, 3, 5, 4.5, 0, 9, 4.5, 1, 8, 4.5, 2, 7, 4.5, 3, 6, 4.5, 4, 5, 5.0, 0, 10, 5.0, 1, 9, 5.0, 2, 8, 5.0, 3, 7, 5.0, 4, 6, 5.5, 1, 10, 5.5, 2, 9, 5.5, 3, 8, 5.5, 4, 7, 5.5, 5, 6, 6.0, 2, 10, 6.0, 3, 9, 6.0, 4, 8, 6.0, 5, 7, 6.5, 3, 10, 6.5, 4, 9, 6.5, 5, 8, 6.5, 6, 7, 7.0, 4, 10, 7.0, 5, 9, 7.0, 6, 8, 7.5, 5, 10, 7.5, 6, 9, 7.5, 7, 8, 8.0, 6, 10, 8.0, 7, 9, 8.5, 7, 10, 8.5, 8, 9, 9.0, 8, 10, 9.5, 9, 10]\n"
     ]
    }
   ],
   "source": [
    "# Define the range for the sequence\n",
    "n = 10  # Replace with the desired value of n\n",
    "\n",
    "# Step 1: Generate the sequence of numbers from 0 to n\n",
    "sequence = list(range(n + 1))\n",
    "\n",
    "# Step 2: Create a list to store valid (n1, n2, n3) tuples\n",
    "valid_tuples = []\n",
    "\n",
    "for n1 in sequence:\n",
    "    for n3 in sequence:\n",
    "        n2 = (n1 + n3) / 2\n",
    "        if n1 < n2 < n3:\n",
    "            valid_tuples.append((n1, n2, n3))\n",
    "\n",
    "# Step 3: Sort the list of tuples based on n2\n",
    "sorted_tuples = sorted(valid_tuples, key=lambda x: x[1])\n",
    "\n",
    "# Step 4: Create a new list with the sorted tuples\n",
    "sorted_sequence = []\n",
    "for n1, n2, n3 in sorted_tuples:\n",
    "    sorted_sequence.extend([n2, n1, n3])\n",
    "\n",
    "# Step 5: Extract n1, n2, and n3 from the sorted tuples and create a new list\n",
    "sorted_sequence = [n1 for n1, _, _ in sorted_tuples] + sorted_sequence\n",
    "\n",
    "# Display the sorted sequence\n",
    "print(sorted_sequence)\n"
   ]
  }
 ],
 "metadata": {
  "kernelspec": {
   "display_name": "py311",
   "language": "python",
   "name": "python3"
  },
  "language_info": {
   "codemirror_mode": {
    "name": "ipython",
    "version": 3
   },
   "file_extension": ".py",
   "mimetype": "text/x-python",
   "name": "python",
   "nbconvert_exporter": "python",
   "pygments_lexer": "ipython3",
   "version": "3.11.5"
  }
 },
 "nbformat": 4,
 "nbformat_minor": 2
}
