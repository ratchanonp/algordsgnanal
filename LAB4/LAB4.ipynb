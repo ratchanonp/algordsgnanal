{
 "cells": [
  {
   "cell_type": "code",
   "execution_count": 113,
   "metadata": {},
   "outputs": [],
   "source": [
    "from collections import Counter"
   ]
  },
  {
   "cell_type": "code",
   "execution_count": 114,
   "metadata": {},
   "outputs": [],
   "source": [
    "amout = 5\n",
    "coins = [1, 2, 3]\n",
    "\n",
    "Vector = list[int]\n",
    "Matrix = list[Vector]"
   ]
  },
  {
   "cell_type": "code",
   "execution_count": 115,
   "metadata": {},
   "outputs": [],
   "source": [
    "picks = [[] for i in range(amout + 1)]\n",
    "\n",
    "for coin in coins:\n",
    "    picks[coin].append([coin])"
   ]
  },
  {
   "cell_type": "code",
   "execution_count": 116,
   "metadata": {},
   "outputs": [],
   "source": [
    "def is_unique_combination(current_pick: Vector) -> bool:\n",
    "\n",
    "    current_amount = sum(current_pick)\n",
    "    choose_picks = picks[current_amount]\n",
    "\n",
    "    for pick in choose_picks:\n",
    "        if Counter(pick) == Counter(current_pick):\n",
    "            return False\n",
    "    return True"
   ]
  },
  {
   "cell_type": "code",
   "execution_count": 117,
   "metadata": {},
   "outputs": [],
   "source": [
    "def make_change(amount: int, coins: Vector, current_picks: Vector) -> Vector:\n",
    "\n",
    "    if (is_unique_combination(current_picks)):\n",
    "        picks[sum(current_picks)].append(current_picks)\n",
    "\n",
    "    for coin in coins:\n",
    "        if amount >= coin:\n",
    "            new_current_picks = list(current_picks)\n",
    "            new_current_picks.append(coin)\n",
    "\n",
    "            make_change(amount - coin, coins, new_current_picks)\n",
    "\n",
    "    return picks[amount]"
   ]
  },
  {
   "cell_type": "code",
   "execution_count": 118,
   "metadata": {},
   "outputs": [
    {
     "name": "stdout",
     "output_type": "stream",
     "text": [
      "amount: 1 picks: [[1]]\n",
      "amount: 2 picks: [[2], [1, 1]]\n",
      "amount: 3 picks: [[3], [1, 1, 1], [1, 2]]\n",
      "amount: 4 picks: [[1, 1, 1, 1], [1, 1, 2], [1, 3], [2, 2]]\n",
      "amount: 5 picks: [[1, 1, 1, 1, 1], [1, 1, 1, 2], [1, 1, 3], [1, 2, 2], [2, 3]]\n"
     ]
    }
   ],
   "source": [
    "sol = make_change(amout, coins, [])\n",
    "\n",
    "for i in range(1, len(picks)):\n",
    "    print(\"amount: \" + str(i) + \" picks: \" + str(picks[i]))"
   ]
  },
  {
   "cell_type": "markdown",
   "metadata": {},
   "source": [
    "# Minimum Change\n"
   ]
  },
  {
   "cell_type": "markdown",
   "metadata": {},
   "source": [
    "## Bottom Up Approach\n"
   ]
  },
  {
   "cell_type": "code",
   "execution_count": 119,
   "metadata": {},
   "outputs": [],
   "source": [
    "n_coins = []\n",
    "coins = []\n",
    "\n",
    "\n",
    "def bottom_up_min_change(amount):\n",
    "\n",
    "    global n_coins, coins\n",
    "\n",
    "    for i in range(1, amount + 1):\n",
    "        for coin in coins:\n",
    "            if i >= coin:\n",
    "                n_coins[i] = min(n_coins[i], n_coins[i - coin] + 1)\n",
    "                coins[i] = coins[i - coin] + [coin]\n",
    "\n",
    "    return n_coins[amount], coins[amount]"
   ]
  },
  {
   "cell_type": "code",
   "execution_count": 120,
   "metadata": {},
   "outputs": [
    {
     "name": "stdout",
     "output_type": "stream",
     "text": [
      "Minimum number of coins to make change for 10 is 4 coins: [1, 3, 3, 3]\n"
     ]
    }
   ],
   "source": [
    "amount = 10\n",
    "n_coins = [float(\"inf\") for _ in range(amount + 1)]\n",
    "n_coins[0] = 0\n",
    "\n",
    "coins = [[] for _ in range(amount + 1)]\n",
    "\n",
    "solution = bottom_up_min_change(amount)\n",
    "print(\n",
    "    f\"Minimum number of coins to make change for {amount} is {solution[0]} coins: {solution[1]}\")"
   ]
  },
  {
   "cell_type": "markdown",
   "metadata": {},
   "source": [
    "## Top Down Approach\n"
   ]
  },
  {
   "cell_type": "code",
   "execution_count": 121,
   "metadata": {},
   "outputs": [],
   "source": [
    "n_coins = []\n",
    "coins = []\n",
    "\n",
    "\n",
    "def top_down_min_change(amount):\n",
    "\n",
    "    global coins, n_coins\n",
    "\n",
    "    if (n_coins[amount] != float(\"inf\")):\n",
    "        return n_coins[amount], coins[amount]\n",
    "\n",
    "    for coin in coins:\n",
    "        if amount >= coin:\n",
    "            current_n_change, _ = top_down_min_change(amount - coin)\n",
    "\n",
    "            n_coins[amount] = min(n_coins[amount], current_n_change + 1)\n",
    "            coins[amount] = coins[amount - coin] + [coin]\n",
    "\n",
    "    return n_coins[amount], coins[amount]"
   ]
  },
  {
   "cell_type": "code",
   "execution_count": 122,
   "metadata": {},
   "outputs": [
    {
     "name": "stdout",
     "output_type": "stream",
     "text": [
      "Minimum number of coins to make change for 10 is 4 coins: [1, 3, 3, 3]\n"
     ]
    }
   ],
   "source": [
    "n_coins = [float(\"inf\") for _ in range(amount + 1)]\n",
    "n_coins[0] = 0\n",
    "\n",
    "coins = [[] for _ in range(amount + 1)]\n",
    "\n",
    "solution = top_down_min_change(amount)\n",
    "print(\n",
    "    f\"Minimum number of coins to make change for {amount} is {solution[0]} coins: {solution[1]}\")"
   ]
  }
 ],
 "metadata": {
  "kernelspec": {
   "display_name": "py311",
   "language": "python",
   "name": "python3"
  },
  "language_info": {
   "codemirror_mode": {
    "name": "ipython",
    "version": 3
   },
   "file_extension": ".py",
   "mimetype": "text/x-python",
   "name": "python",
   "nbconvert_exporter": "python",
   "pygments_lexer": "ipython3",
   "version": "3.11.4"
  },
  "orig_nbformat": 4
 },
 "nbformat": 4,
 "nbformat_minor": 2
}
