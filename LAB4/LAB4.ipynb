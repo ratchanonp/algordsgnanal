{
 "cells": [
  {
   "cell_type": "code",
   "execution_count": 74,
   "metadata": {},
   "outputs": [],
   "source": [
    "from collections import Counter"
   ]
  },
  {
   "cell_type": "code",
   "execution_count": 75,
   "metadata": {},
   "outputs": [],
   "source": [
    "amount = 10\n",
    "coins = [2, 3, 9]\n",
    "\n",
    "Vector = list[int]\n",
    "Matrix = list[Vector]"
   ]
  },
  {
   "cell_type": "code",
   "execution_count": 76,
   "metadata": {},
   "outputs": [],
   "source": [
    "coins_table = [[] for i in range(amount + 1)]\n",
    "\n",
    "for coin in coins:\n",
    "    coins_table[coin].append([coin])"
   ]
  },
  {
   "cell_type": "code",
   "execution_count": 77,
   "metadata": {},
   "outputs": [],
   "source": [
    "def is_unique_combination(coins: Vector) -> bool:\n",
    "\n",
    "    sum_amount = sum(coins)\n",
    "    choose_coin = coins_table[sum_amount]\n",
    "\n",
    "    for coin in choose_coin:\n",
    "        if Counter(coin) == Counter(coins):\n",
    "            return False\n",
    "    return True"
   ]
  },
  {
   "cell_type": "code",
   "execution_count": 78,
   "metadata": {},
   "outputs": [],
   "source": [
    "def make_change(amount: int, coins: Vector, current_picks: Vector) -> Vector:\n",
    "\n",
    "    if (is_unique_combination(current_picks)):\n",
    "        coins_table[sum(current_picks)].append(current_picks)\n",
    "\n",
    "    for coin in coins:\n",
    "        if amount >= coin:\n",
    "            new_current_picks = list(current_picks)\n",
    "            new_current_picks.append(coin)\n",
    "\n",
    "            make_change(amount - coin, coins, new_current_picks)\n",
    "\n",
    "    return coins_table[amount]"
   ]
  },
  {
   "cell_type": "code",
   "execution_count": 79,
   "metadata": {},
   "outputs": [
    {
     "name": "stdout",
     "output_type": "stream",
     "text": [
      "amount: 1 picks: []\n",
      "amount: 2 picks: [[2]]\n",
      "amount: 3 picks: [[3]]\n",
      "amount: 4 picks: [[2, 2]]\n",
      "amount: 5 picks: [[2, 3]]\n",
      "amount: 6 picks: [[2, 2, 2], [3, 3]]\n",
      "amount: 7 picks: [[2, 2, 3]]\n",
      "amount: 8 picks: [[2, 2, 2, 2], [2, 3, 3]]\n",
      "amount: 9 picks: [[9], [2, 2, 2, 3], [3, 3, 3]]\n",
      "amount: 10 picks: [[2, 2, 2, 2, 2], [2, 2, 3, 3]]\n"
     ]
    }
   ],
   "source": [
    "sol = make_change(amount, coins, [])\n",
    "\n",
    "for i in range(1, len(coins_table)):\n",
    "    print(\"amount: \" + str(i) + \" picks: \" + str(coins_table[i]))"
   ]
  },
  {
   "cell_type": "markdown",
   "metadata": {},
   "source": [
    "# Minimum Change\n"
   ]
  },
  {
   "cell_type": "markdown",
   "metadata": {},
   "source": [
    "## Bottom Up Approach\n"
   ]
  },
  {
   "cell_type": "code",
   "execution_count": 80,
   "metadata": {},
   "outputs": [],
   "source": [
    "n_change = []\n",
    "change = []\n",
    "\n",
    "def bottom_up_min_change(amount):\n",
    "\n",
    "    global n_change, change\n",
    "\n",
    "    for i in range(1, amount + 1):\n",
    "        print(f\"Try to make change for {i}\")\n",
    "        for coin in coins:\n",
    "            if i == coin:\n",
    "                print(f\"use {coin}\")\n",
    "                n_change[i] = 1\n",
    "                change[i] = [coin]\n",
    "            elif i > coin:\n",
    "                print(f\"use {coin} and find {i - coin} change {change[i - coin]}\")\n",
    "                if n_change[i - coin] + 1 < n_change[i]:\n",
    "                    n_change[i] = n_change[i - coin] + 1\n",
    "                    change[i] = change[i - coin] + [coin]\n",
    "\n",
    "    return n_change[amount], change[amount]"
   ]
  },
  {
   "cell_type": "code",
   "execution_count": 81,
   "metadata": {},
   "outputs": [
    {
     "name": "stdout",
     "output_type": "stream",
     "text": [
      "Try to make change for 1\n",
      "Try to make change for 2\n",
      "use 2\n",
      "Try to make change for 3\n",
      "use 2 and find 1 change []\n",
      "use 3\n",
      "Try to make change for 4\n",
      "use 2 and find 2 change [2]\n",
      "use 3 and find 1 change []\n",
      "Try to make change for 5\n",
      "use 2 and find 3 change [3]\n",
      "use 3 and find 2 change [2]\n",
      "Try to make change for 6\n",
      "use 2 and find 4 change [2, 2]\n",
      "use 3 and find 3 change [3]\n",
      "Try to make change for 7\n",
      "use 2 and find 5 change [3, 2]\n",
      "use 3 and find 4 change [2, 2]\n",
      "Try to make change for 8\n",
      "use 2 and find 6 change [3, 3]\n",
      "use 3 and find 5 change [3, 2]\n",
      "Try to make change for 9\n",
      "use 2 and find 7 change [3, 2, 2]\n",
      "use 3 and find 6 change [3, 3]\n",
      "use 9\n",
      "Try to make change for 10\n",
      "use 2 and find 8 change [3, 3, 2]\n",
      "use 3 and find 7 change [3, 2, 2]\n",
      "use 9 and find 1 change []\n",
      "Minimum number of coins to make change for 10 is 4 coins: [3, 3, 2, 2]\n",
      "Dynamic Programming Table:\n",
      "n_change: [0, inf, 1, 1, 2, 2, 2, 3, 3, 1, 4]\n",
      "change: [[], [], [2], [3], [2, 2], [3, 2], [3, 3], [3, 2, 2], [3, 3, 2], [9], [3, 3, 2, 2]]\n"
     ]
    }
   ],
   "source": [
    "n_change = [float(\"inf\") for _ in range(amount + 1)]\n",
    "n_change[0] = 0\n",
    "\n",
    "change = [[] for _ in range(amount + 1)]\n",
    "\n",
    "solution = bottom_up_min_change(amount)\n",
    "print(f\"Minimum number of coins to make change for {amount} is {solution[0]} coins: {solution[1]}\")\n",
    "\n",
    "print(\"Dynamic Programming Table:\")\n",
    "print(\"n_change: \" + str(n_change))\n",
    "print(\"change: \" + str(change))"
   ]
  },
  {
   "cell_type": "markdown",
   "metadata": {},
   "source": [
    "## Top Down Approach\n"
   ]
  },
  {
   "cell_type": "code",
   "execution_count": 82,
   "metadata": {},
   "outputs": [],
   "source": [
    "n_change = []\n",
    "change = []\n",
    "\n",
    "def top_down_min_change(amount):\n",
    "\n",
    "    # print(f\"Find change for {amount}\")\n",
    "\n",
    "    global change, n_change\n",
    "\n",
    "    # memoization\n",
    "    if (n_change[amount] != float(\"inf\")):\n",
    "        return n_change[amount], change[amount]\n",
    "\n",
    "    # base case\n",
    "    if (amount in coins):\n",
    "        n_change[amount] = 1\n",
    "        change[amount] = [amount]\n",
    "        return n_change[amount], change[amount]\n",
    "\n",
    "    # recursive case\n",
    "    for coin in coins:\n",
    "        if amount >= coin:\n",
    "            current_n_change, current_change = top_down_min_change(amount - coin)\n",
    "            current_n_coin, current_coin = top_down_min_change(coin)\n",
    "\n",
    "            if current_n_change + 1 < n_change[amount]:\n",
    "                n_change[amount] = current_n_change + current_n_coin\n",
    "                change[amount] = current_change + current_coin\n",
    "\n",
    "    return n_change[amount], change[amount]"
   ]
  },
  {
   "cell_type": "code",
   "execution_count": 83,
   "metadata": {},
   "outputs": [
    {
     "name": "stdout",
     "output_type": "stream",
     "text": [
      "Minimum number of coins to make change for 10 is 4 coins: [3, 3, 2, 2]\n",
      "Dynamic Programming Table:\n",
      "n_change: [0, inf, 1, 1, 2, 2, 2, 3, 3, 1, 4]\n",
      "change: [[], [], [2], [3], [2, 2], [3, 2], [3, 3], [3, 2, 2], [3, 3, 2], [9], [3, 3, 2, 2]]\n"
     ]
    }
   ],
   "source": [
    "n_change = [float(\"inf\") for _ in range(amount + 1)]\n",
    "n_change[0] = 0\n",
    "\n",
    "change = [[] for _ in range(amount + 1)]\n",
    "\n",
    "solution = top_down_min_change(amount)\n",
    "print(\n",
    "    f\"Minimum number of coins to make change for {amount} is {solution[0]} coins: {solution[1]}\")\n",
    "\n",
    "print(\"Dynamic Programming Table:\")\n",
    "print(\"n_change: \" + str(n_change))\n",
    "print(\"change: \" + str(change))"
   ]
  },
  {
   "cell_type": "code",
   "execution_count": 90,
   "metadata": {},
   "outputs": [
    {
     "name": "stdout",
     "output_type": "stream",
     "text": [
      "File ./test/4.2.txt\n",
      "Amount 48\n",
      "coins [] = [4, 6, 14]\n",
      "Minimum of Coin is 4\n",
      "[14, 14, 14, 6]\n",
      "\n",
      "File ./test/4.13.txt\n",
      "Amount 522\n",
      "coins [] = [10, 21, 32, 43, 54, 65, 72, 81, 90]\n",
      "Minimum of Coin is 6\n",
      "[90, 90, 90, 90, 90, 72]\n",
      "\n",
      "File ./test/4.12.txt\n",
      "Amount 312\n",
      "coins [] = [7, 9, 11, 20, 30, 31, 43]\n",
      "Minimum of Coin is 8\n",
      "[43, 43, 43, 43, 43, 43, 43, 11]\n",
      "\n",
      "File ./test/4.3.txt\n",
      "Amount 28\n",
      "coins [] = [2, 5, 7]\n",
      "Minimum of Coin is 4\n",
      "[7, 7, 7, 7]\n",
      "\n",
      "File ./test/4.1.txt\n",
      "Amount 12\n",
      "coins [] = [2, 6, 7, 10]\n",
      "Minimum of Coin is 2\n",
      "[10, 2]\n",
      "\n",
      "File ./test/4.10.txt\n",
      "Amount 49\n",
      "coins [] = [2, 4, 6, 14, 32]\n",
      "Minimum of Coin is inf\n",
      "[]\n",
      "\n",
      "File ./test/4.11.txt\n",
      "Amount 149\n",
      "coins [] = [5, 7, 11, 13, 17]\n",
      "Minimum of Coin is 9\n",
      "[17, 17, 17, 17, 17, 17, 17, 17, 13]\n",
      "\n",
      "File ./test/4.4.txt\n",
      "Amount 25\n",
      "coins [] = [3, 5, 7, 9]\n",
      "Minimum of Coin is 3\n",
      "[9, 9, 7]\n",
      "\n",
      "File ./test/4.5.txt\n",
      "Amount 31\n",
      "coins [] = [2, 6, 10, 14]\n",
      "Minimum of Coin is inf\n",
      "[]\n",
      "\n",
      "File ./test/4.7.txt\n",
      "Amount 30\n",
      "coins [] = [3, 5, 9, 10, 11, 12]\n",
      "Minimum of Coin is 3\n",
      "[12, 9, 9]\n",
      "\n",
      "File ./test/4.6.txt\n",
      "Amount 22\n",
      "coins [] = [7, 8, 9]\n",
      "Minimum of Coin is 3\n",
      "[8, 7, 7]\n",
      "\n",
      "File ./test/4.14(Extra).txt\n",
      "Amount 9036\n",
      "coins [] = [3, 5, 11, 17, 29, 41, 59, 71, 101, 107, 137, 149, 179, 191, 197, 227, 239, 269, 281, 311, 347, 419, 431, 461, 521, 569, 599, 617, 641, 659, 809, 821, 827, 857, 881, 1019, 1031, 1049, 1061, 1091, 1151, 1229, 1277, 1289, 1301, 1319, 1427, 1451, 1481, 1487, 1607, 1619, 1667, 1697, 1721, 1787, 1871, 1877, 1931, 1949, 1997, 2027, 2081, 2087, 2111, 2129, 2141, 2237, 2267, 2309, 2339, 2381, 2549, 2591, 2657, 2687, 2711, 2729, 2789, 2801, 2969, 2999, 3119, 3167, 3251, 3257, 3299, 3329, 3359, 3371, 3389, 3461, 3467, 3527, 3539, 3557, 3581, 3671, 3767, 3821, 3851, 3917, 3929, 4001, 4019, 4049, 4091, 4127, 4157, 4217, 4519, 4229, 4241, 4259, 4271, 4337, 4421, 4481, 4517, 4547, 4637, 4649, 4721, 4787, 4799, 4931, 4967, 5009, 5021, 5099, 5231, 5279, 5417, 5441, 5477, 5501, 5519, 5639, 5651, 5657, 5741, 5867, 5879, 6089, 6131, 6197, 6269, 6299, 6359, 6449, 6551, 6569, 6659, 6689, 6701, 6761, 6779, 6791, 6827, 6869, 6947, 6959, 7127, 7211, 7307, 7331, 7349, 7457]\n",
      "Minimum of Coin is 2\n",
      "[4517, 4519]\n",
      "\n",
      "File ./test/4.8.txt\n",
      "Amount 48\n",
      "coins [] = [4, 5, 7, 16, 36]\n",
      "Minimum of Coin is 3\n",
      "[36, 7, 5]\n",
      "\n",
      "File ./test/4.9.txt\n",
      "Amount 56\n",
      "coins [] = [3, 5, 7, 11]\n",
      "Minimum of Coin is 6\n",
      "[11, 11, 11, 11, 7, 5]\n",
      "\n"
     ]
    }
   ],
   "source": [
    "import os\n",
    "import sys\n",
    "\n",
    "path = \"./test\"\n",
    "files = os.listdir(path)\n",
    "\n",
    "sys.setrecursionlimit(100000)\n",
    "\n",
    "for file in files:\n",
    "    file_path = path + \"/\" + file\n",
    "    with open(file_path, \"r\") as f:\n",
    "        amount = int(f.readline())\n",
    "        coins = [int(coin) for coin in f.readline().split()]\n",
    "\n",
    "        n_change = [float(\"inf\") for _ in range(amount + 1)]\n",
    "        n_change[0] = 0\n",
    "\n",
    "        change = [[] for _ in range(amount + 1)]\n",
    "\n",
    "        solution = top_down_min_change(amount)\n",
    "        sol_n_change = solution[0]\n",
    "        sol_change = solution[1]\n",
    "\n",
    "        print(f\"File {file_path}\")\n",
    "        print(f\"Amount {amount}\")\n",
    "        print(f\"coins [] = {coins}\")\n",
    "        print(f\"Minimum of Coin is {sol_n_change}\")\n",
    "        print(f\"{sol_change}\")\n",
    "        print()\n",
    "\n",
    "\n"
   ]
  }
 ],
 "metadata": {
  "kernelspec": {
   "display_name": "py311",
   "language": "python",
   "name": "python3"
  },
  "language_info": {
   "codemirror_mode": {
    "name": "ipython",
    "version": 3
   },
   "file_extension": ".py",
   "mimetype": "text/x-python",
   "name": "python",
   "nbconvert_exporter": "python",
   "pygments_lexer": "ipython3",
   "version": "3.11.4"
  },
  "orig_nbformat": 4
 },
 "nbformat": 4,
 "nbformat_minor": 2
}
