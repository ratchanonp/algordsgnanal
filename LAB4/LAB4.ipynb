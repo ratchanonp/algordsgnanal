{
 "cells": [
  {
   "cell_type": "code",
   "execution_count": 84,
   "metadata": {},
   "outputs": [],
   "source": [
    "from collections import Counter"
   ]
  },
  {
   "cell_type": "code",
   "execution_count": 85,
   "metadata": {},
   "outputs": [],
   "source": [
    "amount = 10\n",
    "coins = [2, 3, 9]\n",
    "\n",
    "Vector = list[int]\n",
    "Matrix = list[Vector]"
   ]
  },
  {
   "cell_type": "code",
   "execution_count": 86,
   "metadata": {},
   "outputs": [],
   "source": [
    "coins_table = [[] for i in range(amount + 1)]\n",
    "\n",
    "for coin in coins:\n",
    "    coins_table[coin].append([coin])"
   ]
  },
  {
   "cell_type": "code",
   "execution_count": 87,
   "metadata": {},
   "outputs": [],
   "source": [
    "def is_unique_combination(coins: Vector) -> bool:\n",
    "\n",
    "    sum_amount = sum(coins)\n",
    "    choose_coin = coins_table[sum_amount]\n",
    "\n",
    "    for coin in choose_coin:\n",
    "        if Counter(coin) == Counter(coins):\n",
    "            return False\n",
    "    return True"
   ]
  },
  {
   "cell_type": "code",
   "execution_count": 88,
   "metadata": {},
   "outputs": [],
   "source": [
    "def make_change(amount: int, coins: Vector, current_picks: Vector) -> Vector:\n",
    "\n",
    "    if (is_unique_combination(current_picks)):\n",
    "        coins_table[sum(current_picks)].append(current_picks)\n",
    "\n",
    "    for coin in coins:\n",
    "        if amount >= coin:\n",
    "            new_current_picks = list(current_picks)\n",
    "            new_current_picks.append(coin)\n",
    "\n",
    "            make_change(amount - coin, coins, new_current_picks)\n",
    "\n",
    "    return coins_table[amount]"
   ]
  },
  {
   "cell_type": "code",
   "execution_count": 89,
   "metadata": {},
   "outputs": [
    {
     "name": "stdout",
     "output_type": "stream",
     "text": [
      "amount: 1 picks: []\n",
      "amount: 2 picks: [[2]]\n",
      "amount: 3 picks: [[3]]\n",
      "amount: 4 picks: [[2, 2]]\n",
      "amount: 5 picks: [[2, 3]]\n",
      "amount: 6 picks: [[2, 2, 2], [3, 3]]\n",
      "amount: 7 picks: [[2, 2, 3]]\n",
      "amount: 8 picks: [[2, 2, 2, 2], [2, 3, 3]]\n",
      "amount: 9 picks: [[9], [2, 2, 2, 3], [3, 3, 3]]\n",
      "amount: 10 picks: [[2, 2, 2, 2, 2], [2, 2, 3, 3]]\n"
     ]
    }
   ],
   "source": [
    "sol = make_change(amount, coins, [])\n",
    "\n",
    "for i in range(1, len(coins_table)):\n",
    "    print(\"amount: \" + str(i) + \" picks: \" + str(coins_table[i]))"
   ]
  },
  {
   "cell_type": "markdown",
   "metadata": {},
   "source": [
    "# Minimum Change\n"
   ]
  },
  {
   "cell_type": "markdown",
   "metadata": {},
   "source": [
    "## Bottom Up Approach\n"
   ]
  },
  {
   "cell_type": "code",
   "execution_count": 90,
   "metadata": {},
   "outputs": [],
   "source": [
    "n_change = []\n",
    "change = []\n",
    "\n",
    "def bottom_up_min_change(amount):\n",
    "\n",
    "    global n_change, change\n",
    "\n",
    "    for i in range(1, amount + 1):\n",
    "        for coin in coins:\n",
    "            if i == coin:\n",
    "                n_change[i] = 1\n",
    "                change[i] = [coin]\n",
    "            elif i > coin:\n",
    "                if n_change[i - coin] + 1 < n_change[i]:\n",
    "                    n_change[i] = n_change[i - coin] + 1\n",
    "                    change[i] = change[i - coin] + [coin]\n",
    "\n",
    "    return n_change[amount], change[amount]"
   ]
  },
  {
   "cell_type": "code",
   "execution_count": 91,
   "metadata": {},
   "outputs": [
    {
     "name": "stdout",
     "output_type": "stream",
     "text": [
      "Minimum number of coins to make change for 10 is 4 coins: [3, 3, 2, 2]\n",
      "Dynamic Programming Table:\n",
      "n_change: [0, inf, 1, 1, 2, 2, 2, 3, 3, 1, 4]\n",
      "change: [[], [], [2], [3], [2, 2], [3, 2], [3, 3], [3, 2, 2], [3, 3, 2], [9], [3, 3, 2, 2]]\n"
     ]
    }
   ],
   "source": [
    "n_change = [float(\"inf\") for _ in range(amount + 1)]\n",
    "n_change[0] = 0\n",
    "\n",
    "change = [[] for _ in range(amount + 1)]\n",
    "\n",
    "solution = bottom_up_min_change(amount)\n",
    "print(f\"Minimum number of coins to make change for {amount} is {solution[0]} coins: {solution[1]}\")\n",
    "\n",
    "print(\"Dynamic Programming Table:\")\n",
    "print(\"n_change: \" + str(n_change))\n",
    "print(\"change: \" + str(change))"
   ]
  },
  {
   "cell_type": "markdown",
   "metadata": {},
   "source": [
    "## Top Down Approach\n"
   ]
  },
  {
   "cell_type": "code",
   "execution_count": 92,
   "metadata": {},
   "outputs": [],
   "source": [
    "n_change = []\n",
    "change = []\n",
    "\n",
    "def top_down_min_change(amount):\n",
    "\n",
    "    global change, n_change\n",
    "\n",
    "    # memoization\n",
    "    if (n_change[amount] != float(\"inf\")):\n",
    "        return n_change[amount], change[amount]\n",
    "\n",
    "    # base case\n",
    "    if (amount in coins):\n",
    "        n_change[amount] = 1\n",
    "        change[amount] = [amount]\n",
    "        return n_change[amount], change[amount]\n",
    "\n",
    "    # recursive case\n",
    "    for coin in coins:\n",
    "        if amount > coin:\n",
    "            current_n_change, current_change = top_down_min_change(amount - coin)\n",
    "\n",
    "            if current_n_change + 1 < n_change[amount]:\n",
    "                n_change[amount] = current_n_change + 1\n",
    "                change[amount] = current_change + [coin]\n",
    "\n",
    "    return n_change[amount], change[amount]"
   ]
  },
  {
   "cell_type": "code",
   "execution_count": 93,
   "metadata": {},
   "outputs": [
    {
     "name": "stdout",
     "output_type": "stream",
     "text": [
      "Minimum number of coins to make change for 10 is 4 coins: [3, 3, 2, 2]\n",
      "Dynamic Programming Table:\n",
      "n_change: [0, inf, 1, 1, 2, 2, 2, 3, 3, inf, 4]\n",
      "change: [[], [], [2], [3], [2, 2], [3, 2], [3, 3], [3, 2, 2], [3, 3, 2], [], [3, 3, 2, 2]]\n"
     ]
    }
   ],
   "source": [
    "n_change = [float(\"inf\") for _ in range(amount + 1)]\n",
    "n_change[0] = 0\n",
    "\n",
    "change = [[] for _ in range(amount + 1)]\n",
    "\n",
    "solution = top_down_min_change(amount)\n",
    "print(\n",
    "    f\"Minimum number of coins to make change for {amount} is {solution[0]} coins: {solution[1]}\")\n",
    "\n",
    "print(\"Dynamic Programming Table:\")\n",
    "print(\"n_change: \" + str(n_change))\n",
    "print(\"change: \" + str(change))"
   ]
  },
  {
   "cell_type": "code",
   "execution_count": null,
   "metadata": {},
   "outputs": [],
   "source": []
  }
 ],
 "metadata": {
  "kernelspec": {
   "display_name": "py311",
   "language": "python",
   "name": "python3"
  },
  "language_info": {
   "codemirror_mode": {
    "name": "ipython",
    "version": 3
   },
   "file_extension": ".py",
   "mimetype": "text/x-python",
   "name": "python",
   "nbconvert_exporter": "python",
   "pygments_lexer": "ipython3",
   "version": "3.11.4"
  },
  "orig_nbformat": 4
 },
 "nbformat": 4,
 "nbformat_minor": 2
}
