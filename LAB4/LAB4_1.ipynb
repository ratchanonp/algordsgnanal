{
 "cells": [
  {
   "cell_type": "code",
   "execution_count": 69,
   "metadata": {},
   "outputs": [],
   "source": [
    "from collections import Counter"
   ]
  },
  {
   "cell_type": "code",
   "execution_count": 70,
   "metadata": {},
   "outputs": [],
   "source": [
    "Vector = list[int]\n",
    "Matrix = list[Vector]\n",
    "\n",
    "coins_table: dict[int, Matrix] = {}"
   ]
  },
  {
   "cell_type": "code",
   "execution_count": 71,
   "metadata": {},
   "outputs": [],
   "source": [
    "def is_unique_coins(coins: Vector) -> bool:\n",
    "    \n",
    "    amount = sum(coins)\n",
    "    check_coins = coins_table[amount]\n",
    "\n",
    "    for check_coin in check_coins:\n",
    "        if Counter(check_coin) == Counter(coins):\n",
    "            return False\n",
    "\n",
    "    return True"
   ]
  },
  {
   "cell_type": "code",
   "execution_count": 72,
   "metadata": {},
   "outputs": [],
   "source": [
    "def make_change(amount: int, coins: Vector):\n",
    "\n",
    "    if amount == 0:\n",
    "        return None\n",
    "\n",
    "    for i in range(coins[0], amount + 1):\n",
    "        for coin in coins:\n",
    "            if coin == i:\n",
    "                coins_table[i].append([coin])\n",
    "                break\n",
    "            elif coin < i:\n",
    "                if i - coin in coins_table:\n",
    "                    for combination in coins_table[i - coin]:\n",
    "                        if is_unique_coins(combination + [coin]):\n",
    "                            coins_table[i].append(combination + [coin])\n",
    "\n",
    "    return coins_table[amount]"
   ]
  },
  {
   "cell_type": "code",
   "execution_count": 73,
   "metadata": {},
   "outputs": [
    {
     "name": "stdout",
     "output_type": "stream",
     "text": [
      "1: [[1]]\n",
      "2: [[1, 1], [2]]\n",
      "3: [[1, 1, 1], [2, 1], [3]]\n",
      "4: [[1, 1, 1, 1], [2, 1, 1], [3, 1], [2, 2]]\n",
      "5: [[1, 1, 1, 1, 1], [2, 1, 1, 1], [3, 1, 1], [2, 2, 1], [3, 2]]\n"
     ]
    }
   ],
   "source": [
    "amount = 5\n",
    "coins = [1, 2, 3]\n",
    "\n",
    "for i in range(1, amount + 1):\n",
    "    coins_table[i] = []\n",
    "\n",
    "make_change(amount, coins)\n",
    "\n",
    "for i in range(1, amount + 1):\n",
    "    print(f\"{i}: {coins_table[i]}\")"
   ]
  }
 ],
 "metadata": {
  "kernelspec": {
   "display_name": "py311",
   "language": "python",
   "name": "python3"
  },
  "language_info": {
   "codemirror_mode": {
    "name": "ipython",
    "version": 3
   },
   "file_extension": ".py",
   "mimetype": "text/x-python",
   "name": "python",
   "nbconvert_exporter": "python",
   "pygments_lexer": "ipython3",
   "version": "3.11.4"
  },
  "orig_nbformat": 4
 },
 "nbformat": 4,
 "nbformat_minor": 2
}
