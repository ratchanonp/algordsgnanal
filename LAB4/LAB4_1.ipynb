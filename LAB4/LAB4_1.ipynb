{
 "cells": [
  {
   "cell_type": "code",
   "execution_count": 26,
   "metadata": {},
   "outputs": [],
   "source": [
    "from collections import Counter"
   ]
  },
  {
   "cell_type": "code",
   "execution_count": 27,
   "metadata": {},
   "outputs": [],
   "source": [
    "Vector = list[int]\n",
    "Matrix = list[Vector]\n",
    "\n",
    "coins_table: dict[int, Matrix] = {}"
   ]
  },
  {
   "cell_type": "code",
   "execution_count": 28,
   "metadata": {},
   "outputs": [],
   "source": [
    "def is_unique_coins(coins: Vector) -> bool:\n",
    "\n",
    "    amount = sum(coins)\n",
    "    check_coins = coins_table[amount]\n",
    "\n",
    "    for check_coin in check_coins:\n",
    "        if Counter(check_coin) == Counter(coins):\n",
    "            return False\n",
    "\n",
    "    return True"
   ]
  },
  {
   "cell_type": "markdown",
   "metadata": {},
   "source": [
    "# Bottom Up Approach\n"
   ]
  },
  {
   "cell_type": "code",
   "execution_count": 43,
   "metadata": {},
   "outputs": [],
   "source": [
    "def bottom_up_make_change(amount: int, coins: Vector):\n",
    "\n",
    "    if amount == 0:\n",
    "        return [[]]\n",
    "\n",
    "    for i in range(coins[0], amount + 1):\n",
    "        for coin in coins:\n",
    "            if coin == i:\n",
    "                coins_table[i].append([coin])\n",
    "                break\n",
    "            elif coin < i:\n",
    "                if i - coin in coins_table:\n",
    "                    for combination in coins_table[i - coin]:\n",
    "                        if is_unique_coins(combination + [coin]):\n",
    "                            coins_table[i].append(combination + [coin])\n",
    "\n",
    "    return coins_table[amount]"
   ]
  },
  {
   "cell_type": "code",
   "execution_count": 44,
   "metadata": {},
   "outputs": [
    {
     "name": "stdout",
     "output_type": "stream",
     "text": [
      "1: [[1]]\n",
      "2: [[1, 1], [2]]\n",
      "3: [[1, 1, 1], [2, 1], [3]]\n",
      "4: [[1, 1, 1, 1], [2, 1, 1], [3, 1], [2, 2]]\n",
      "5: [[1, 1, 1, 1, 1], [2, 1, 1, 1], [3, 1, 1], [2, 2, 1], [3, 2]]\n"
     ]
    }
   ],
   "source": [
    "amount = 5\n",
    "coins = [1, 2, 3]\n",
    "\n",
    "for i in range(1, amount + 1):\n",
    "    coins_table[i] = []\n",
    "\n",
    "bottom_up_make_change(amount, coins)\n",
    "\n",
    "for i in range(1, amount + 1):\n",
    "    print(f\"{i}: {coins_table[i]}\")"
   ]
  },
  {
   "cell_type": "code",
   "execution_count": 31,
   "metadata": {},
   "outputs": [],
   "source": [
    "def top_down_make_change(amount: int, coins: Vector):\n",
    "\n",
    "    if amount == 0:\n",
    "        return []\n",
    "\n",
    "    if coins_table.get(amount) != []:\n",
    "        return coins_table[amount]\n",
    "    \n",
    "    if amount in coins:\n",
    "        coins_table[amount].append([amount])\n",
    "\n",
    "    for coin in coins:\n",
    "        if coin < amount:\n",
    "            combinations = top_down_make_change(amount - coin, coins)\n",
    "\n",
    "            for combination in combinations:\n",
    "                if is_unique_coins(combination + [coin]):\n",
    "                    coins_table[amount].append(combination + [coin])\n",
    "\n",
    "    return coins_table[amount]"
   ]
  },
  {
   "cell_type": "code",
   "execution_count": 32,
   "metadata": {},
   "outputs": [
    {
     "name": "stdout",
     "output_type": "stream",
     "text": [
      "1: [[1]]\n",
      "2: [[2], [1, 1]]\n",
      "3: [[3], [2, 1], [1, 1, 1]]\n",
      "4: [[3, 1], [2, 1, 1], [1, 1, 1, 1], [2, 2]]\n",
      "5: [[3, 1, 1], [2, 1, 1, 1], [1, 1, 1, 1, 1], [2, 2, 1], [3, 2]]\n"
     ]
    }
   ],
   "source": [
    "amount = 5\n",
    "coins = [1, 2, 3]\n",
    "\n",
    "for i in range(1, amount + 1):\n",
    "    coins_table[i] = []\n",
    "\n",
    "top_down_make_change(amount, coins)\n",
    "\n",
    "for i in range(1, amount + 1):\n",
    "    print(f\"{i}: {coins_table[i]}\")"
   ]
  },
  {
   "cell_type": "code",
   "execution_count": 41,
   "metadata": {},
   "outputs": [
    {
     "name": "stdout",
     "output_type": "stream",
     "text": [
      "File: ./test/4.1.txt\n",
      "Amount = 12\n",
      "coins [] = [2, 6, 7, 10]\n",
      "Ways to make change = 4\n",
      "[[2, 2, 2, 2, 2, 2], [6, 2, 2, 2], [10, 2], [6, 6]] \n",
      "\n",
      "1: []\n",
      "2: [[2]]\n",
      "3: []\n",
      "4: [[2, 2]]\n",
      "5: []\n",
      "6: [[2, 2, 2], [6]]\n",
      "7: [[7]]\n",
      "8: [[2, 2, 2, 2], [6, 2]]\n",
      "9: [[7, 2]]\n",
      "10: [[2, 2, 2, 2, 2], [6, 2, 2], [10]]\n",
      "11: [[7, 2, 2]]\n",
      "12: [[2, 2, 2, 2, 2, 2], [6, 2, 2, 2], [10, 2], [6, 6]]\n"
     ]
    }
   ],
   "source": [
    "import os\n",
    "import sys\n",
    "\n",
    "path = \"./test\"\n",
    "files = os.listdir(path)\n",
    "\n",
    "sys.setrecursionlimit(100000)\n",
    "\n",
    "# for file in files:\n",
    "#     file_path = path + \"/\" + file\n",
    "\n",
    "file_path = path + \"/\" + \"4.1.txt\"\n",
    "\n",
    "with open(file_path, \"r\") as f:\n",
    "    print(f\"File: {file_path}\")\n",
    "    amount = int(f.readline())\n",
    "    coins = [int(coin) for coin in f.readline().split()]\n",
    "\n",
    "    for i in range(1, amount + 1):\n",
    "        coins_table[i] = []\n",
    "\n",
    "    solution = bottom_up_make_change(amount, coins)\n",
    "\n",
    "    print(f\"Amount = {amount}\")\n",
    "    print(f\"coins [] = {coins}\")\n",
    "    print(f\"Ways to make change = {len(solution)}\")\n",
    "    print(f\"{solution} \\n\")\n",
    "\n",
    "    for i in range(1, amount + 1):\n",
    "        print(f\"{i}: {coins_table[i]}\")"
   ]
  }
 ],
 "metadata": {
  "kernelspec": {
   "display_name": "py311",
   "language": "python",
   "name": "python3"
  },
  "language_info": {
   "codemirror_mode": {
    "name": "ipython",
    "version": 3
   },
   "file_extension": ".py",
   "mimetype": "text/x-python",
   "name": "python",
   "nbconvert_exporter": "python",
   "pygments_lexer": "ipython3",
   "version": "3.11.4"
  },
  "orig_nbformat": 4
 },
 "nbformat": 4,
 "nbformat_minor": 2
}
