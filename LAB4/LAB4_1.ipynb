{
 "cells": [
  {
   "cell_type": "code",
   "execution_count": 100,
   "metadata": {},
   "outputs": [],
   "source": [
    "from collections import Counter"
   ]
  },
  {
   "cell_type": "code",
   "execution_count": 101,
   "metadata": {},
   "outputs": [],
   "source": [
    "Vector = list[int]\n",
    "Matrix = list[Vector]\n",
    "\n",
    "coins_table: dict[int, Matrix] = {}"
   ]
  },
  {
   "cell_type": "code",
   "execution_count": 102,
   "metadata": {},
   "outputs": [],
   "source": [
    "def is_unique_coins(coins: Vector) -> bool:\n",
    "\n",
    "    amount = sum(coins)\n",
    "    check_coins = coins_table[amount]\n",
    "\n",
    "    for check_coin in check_coins:\n",
    "        if Counter(check_coin) == Counter(coins):\n",
    "            return False\n",
    "\n",
    "    return True"
   ]
  },
  {
   "cell_type": "markdown",
   "metadata": {},
   "source": [
    "# Bottom Up Approach\n"
   ]
  },
  {
   "cell_type": "code",
   "execution_count": 103,
   "metadata": {},
   "outputs": [],
   "source": [
    "def bottom_up_make_change(amount: int, coins: Vector):\n",
    "\n",
    "    if amount == 0:\n",
    "        return None\n",
    "\n",
    "    for i in range(coins[0], amount + 1):\n",
    "        for coin in coins:\n",
    "            if coin == i:\n",
    "                coins_table[i].append([coin])\n",
    "                break\n",
    "            elif coin < i:\n",
    "                if i - coin in coins_table:\n",
    "                    for combination in coins_table[i - coin]:\n",
    "                        if is_unique_coins(combination + [coin]):\n",
    "                            coins_table[i].append(combination + [coin])\n",
    "\n",
    "    return coins_table[amount]"
   ]
  },
  {
   "cell_type": "code",
   "execution_count": 104,
   "metadata": {},
   "outputs": [
    {
     "name": "stdout",
     "output_type": "stream",
     "text": [
      "1: [[1]]\n",
      "2: [[1, 1], [2]]\n",
      "3: [[1, 1, 1], [2, 1], [3]]\n",
      "4: [[1, 1, 1, 1], [2, 1, 1], [3, 1], [2, 2]]\n",
      "5: [[1, 1, 1, 1, 1], [2, 1, 1, 1], [3, 1, 1], [2, 2, 1], [3, 2]]\n"
     ]
    }
   ],
   "source": [
    "amount = 5\n",
    "coins = [1, 2, 3]\n",
    "\n",
    "for i in range(1, amount + 1):\n",
    "    coins_table[i] = []\n",
    "\n",
    "bottom_up_make_change(amount, coins)\n",
    "\n",
    "for i in range(1, amount + 1):\n",
    "    print(f\"{i}: {coins_table[i]}\")"
   ]
  },
  {
   "cell_type": "code",
   "execution_count": 105,
   "metadata": {},
   "outputs": [],
   "source": [
    "def top_down_make_change(amount: int, coins: Vector):\n",
    "\n",
    "    print(\"Finding combinations for\", amount)\n",
    "\n",
    "    if amount == 0:\n",
    "        return []\n",
    "\n",
    "    if coins_table.get(amount) != []:\n",
    "        return coins_table[amount]\n",
    "    \n",
    "    if amount in coins:\n",
    "        coins_table[amount].append([amount])\n",
    "\n",
    "    for coin in coins:\n",
    "        if coin < amount:\n",
    "            combinations = top_down_make_change(amount - coin, coins)\n",
    "\n",
    "            for combination in combinations:\n",
    "                if is_unique_coins(combination + [coin]):\n",
    "                    coins_table[amount].append(combination + [coin])\n",
    "\n",
    "    return coins_table[amount]"
   ]
  },
  {
   "cell_type": "code",
   "execution_count": 106,
   "metadata": {},
   "outputs": [
    {
     "name": "stdout",
     "output_type": "stream",
     "text": [
      "Finding combinations for 5\n",
      "Finding combinations for 4\n",
      "Finding combinations for 3\n",
      "Finding combinations for 2\n",
      "Finding combinations for 1\n",
      "Finding combinations for 1\n",
      "Finding combinations for 2\n",
      "Finding combinations for 1\n",
      "Finding combinations for 3\n",
      "Finding combinations for 2\n",
      "1: [[1]]\n",
      "2: [[2], [1, 1]]\n",
      "3: [[3], [2, 1], [1, 1, 1]]\n",
      "4: [[3, 1], [2, 1, 1], [1, 1, 1, 1], [2, 2]]\n",
      "5: [[3, 1, 1], [2, 1, 1, 1], [1, 1, 1, 1, 1], [2, 2, 1], [3, 2]]\n"
     ]
    }
   ],
   "source": [
    "amount = 5\n",
    "coins = [1, 2, 3]\n",
    "\n",
    "for i in range(1, amount + 1):\n",
    "    coins_table[i] = []\n",
    "\n",
    "top_down_make_change(amount, coins)\n",
    "\n",
    "for i in range(1, amount + 1):\n",
    "    print(f\"{i}: {coins_table[i]}\")"
   ]
  }
 ],
 "metadata": {
  "kernelspec": {
   "display_name": "py311",
   "language": "python",
   "name": "python3"
  },
  "language_info": {
   "codemirror_mode": {
    "name": "ipython",
    "version": 3
   },
   "file_extension": ".py",
   "mimetype": "text/x-python",
   "name": "python",
   "nbconvert_exporter": "python",
   "pygments_lexer": "ipython3",
   "version": "3.11.4"
  },
  "orig_nbformat": 4
 },
 "nbformat": 4,
 "nbformat_minor": 2
}
