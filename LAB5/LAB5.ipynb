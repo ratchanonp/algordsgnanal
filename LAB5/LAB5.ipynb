{
 "cells": [
  {
   "cell_type": "markdown",
   "metadata": {},
   "source": [
    "# Minimum Polygon Triangular\n"
   ]
  },
  {
   "cell_type": "code",
   "execution_count": 41,
   "metadata": {},
   "outputs": [],
   "source": [
    "import time"
   ]
  },
  {
   "cell_type": "code",
   "execution_count": 42,
   "metadata": {},
   "outputs": [],
   "source": [
    "vector = list[float]\n",
    "matrix = list[vector]"
   ]
  },
  {
   "cell_type": "code",
   "execution_count": 43,
   "metadata": {},
   "outputs": [],
   "source": [
    "def distance(point1: tuple, point2: tuple) -> float:\n",
    "    return ((point1[0] - point2[0])**2 + (point1[1] - point2[1])**2)**0.5"
   ]
  },
  {
   "cell_type": "code",
   "execution_count": 44,
   "metadata": {},
   "outputs": [],
   "source": [
    "def cost(point1: tuple, point2: tuple, point3: tuple) -> float:\n",
    "    return distance(point1, point2) + distance(point2, point3) + distance(point3, point1)"
   ]
  },
  {
   "cell_type": "code",
   "execution_count": 45,
   "metadata": {},
   "outputs": [],
   "source": [
    "def minTriangle(vertices: list, i: int, k: int, dp: matrix) -> float:\n",
    "    if k - i < 2:\n",
    "        return 0\n",
    "\n",
    "    if dp[i][k] != -1:\n",
    "        return dp[i][k]\n",
    "\n",
    "    minCost = float('inf')\n",
    "    for j in range(i + 1, k):\n",
    "        c = cost(vertices[i], vertices[j], vertices[k])\n",
    "        minCost = min(minCost,\n",
    "                      c + minTriangle(vertices, i, j, dp) + minTriangle(vertices, j, k, dp))\n",
    "\n",
    "    dp[i][k] = minCost\n",
    "    return dp[i][k]"
   ]
  },
  {
   "cell_type": "code",
   "execution_count": 46,
   "metadata": {},
   "outputs": [],
   "source": [
    "def readFile(path: str) -> list:\n",
    "    with open(path, 'r') as f:\n",
    "        nPoints = int(f.readline())\n",
    "        points = []\n",
    "\n",
    "        for _ in range(nPoints):\n",
    "            points.append(tuple(map(float, f.readline().split())))\n",
    "\n",
    "        return points"
   ]
  },
  {
   "cell_type": "code",
   "execution_count": 47,
   "metadata": {},
   "outputs": [
    {
     "name": "stdout",
     "output_type": "stream",
     "text": [
      "Min cost: 365.84392993899127\n",
      "Time: 0.01625800132751465\n"
     ]
    }
   ],
   "source": [
    "file_path = \"./test/6.txt\"\n",
    "\n",
    "vertices = readFile(file_path)\n",
    "dp = [[-1.0 for _ in range(len(vertices))]\n",
    "      for _ in range(len(vertices))]\n",
    "\n",
    "start = time.time()\n",
    "minCost = minTriangle(vertices, 0, len(vertices) - 1, dp)\n",
    "end = time.time()\n",
    "\n",
    "print(f\"Min cost: {minCost}\")\n",
    "print(f\"Time: {end - start}\")"
   ]
  }
 ],
 "metadata": {
  "kernelspec": {
   "display_name": "py311",
   "language": "python",
   "name": "python3"
  },
  "language_info": {
   "codemirror_mode": {
    "name": "ipython",
    "version": 3
   },
   "file_extension": ".py",
   "mimetype": "text/x-python",
   "name": "python",
   "nbconvert_exporter": "python",
   "pygments_lexer": "ipython3",
   "version": "3.11.4"
  },
  "orig_nbformat": 4
 },
 "nbformat": 4,
 "nbformat_minor": 2
}
