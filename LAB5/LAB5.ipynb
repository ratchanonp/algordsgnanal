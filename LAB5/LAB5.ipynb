{
 "cells": [
  {
   "cell_type": "markdown",
   "metadata": {},
   "source": [
    "# Minimum Polygon Triangular\n"
   ]
  },
  {
   "cell_type": "code",
   "execution_count": 41,
   "metadata": {},
   "outputs": [],
   "source": [
    "import time\n",
    "import numpy as np\n",
    "import matplotlib.pyplot as plt"
   ]
  },
  {
   "cell_type": "code",
   "execution_count": 42,
   "metadata": {},
   "outputs": [],
   "source": [
    "vector = list[float]\n",
    "matrix = list[vector]"
   ]
  },
  {
   "cell_type": "code",
   "execution_count": 43,
   "metadata": {},
   "outputs": [],
   "source": [
    "def distance(point1: tuple, point2: tuple) -> float:\n",
    "\n",
    "    x1, y1 = point1\n",
    "    return ((point1[0] - point2[0])**2 + (point1[1] - point2[1])**2)**0.5"
   ]
  },
  {
   "cell_type": "code",
   "execution_count": 44,
   "metadata": {},
   "outputs": [],
   "source": [
    "def cost(point1: tuple, point2: tuple, point3: tuple) -> float:\n",
    "    return distance(point1, point2) + distance(point2, point3) + distance(point3, point1)"
   ]
  },
  {
   "cell_type": "code",
   "execution_count": 45,
   "metadata": {},
   "outputs": [],
   "source": [
    "def minTriangle(vertices: list, i: int, k: int, dp: matrix, triangular: matrix) -> float:\n",
    "    if k - i < 2:\n",
    "        return 0\n",
    "\n",
    "    if dp[i][k] != -1:\n",
    "        return dp[i][k]\n",
    "\n",
    "    minCost = float('inf')\n",
    "    for j in range(i + 1, k):\n",
    "        c = cost(vertices[i], vertices[j], vertices[k])\n",
    "        totalCost = c + \\\n",
    "            minTriangle(vertices, i, j, dp, triangular) + \\\n",
    "            minTriangle(vertices, j, k, dp, triangular)\n",
    "\n",
    "        if totalCost < minCost:\n",
    "            print(j)\n",
    "            triangular[i][k] = j\n",
    "\n",
    "    dp[i][k] = minCost\n",
    "    return dp[i][k]"
   ]
  },
  {
   "cell_type": "code",
   "execution_count": 46,
   "metadata": {},
   "outputs": [],
   "source": [
    "def readFile(path: str) -> list:\n",
    "    with open(path, 'r') as f:\n",
    "        nPoints = int(f.readline())\n",
    "        points = []\n",
    "\n",
    "        for _ in range(nPoints):\n",
    "            points.append(tuple(map(float, f.readline().split())))\n",
    "\n",
    "        return points"
   ]
  },
  {
   "cell_type": "code",
   "execution_count": 47,
   "metadata": {},
   "outputs": [],
   "source": [
    "def plotTriangle(vertices: list, i: int, k: int, triangular: matrix, ax: plt.Axes):\n",
    "    if k - i < 2:\n",
    "        return\n",
    "\n",
    "    j = triangular[i][k]\n",
    "\n",
    "    # plot point\n",
    "    ax.plot(vertices[i][0], vertices[i][1], 'ro')\n",
    "    ax.plot(vertices[j][0], vertices[j][1], 'ro')\n",
    "    ax.plot(vertices[k][0], vertices[k][1], 'ro')\n",
    "\n",
    "    # Label point\n",
    "    ax.text(vertices[i][0], vertices[i][1], f'{i}')\n",
    "    ax.text(vertices[j][0], vertices[j][1], f'{j}')\n",
    "    ax.text(vertices[k][0], vertices[k][1], f'{k}')\n",
    "    # plt.show()\n",
    "\n",
    "    # plot line\n",
    "    ax.plot([vertices[i][0], vertices[j][0]],\n",
    "            [vertices[i][1], vertices[j][1]], 'r-')\n",
    "    ax.plot([vertices[j][0], vertices[k][0]],\n",
    "            [vertices[j][1], vertices[k][1]], 'r-')\n",
    "    ax.plot([vertices[k][0], vertices[i][0]],\n",
    "            [vertices[k][1], vertices[i][1]], 'r-')\n",
    "\n",
    "    if j != -1:\n",
    "        plotTriangle(vertices, i, j, triangular, ax)\n",
    "        plotTriangle(vertices, j, k, triangular, ax)"
   ]
  },
  {
   "cell_type": "code",
   "execution_count": 48,
   "metadata": {},
   "outputs": [],
   "source": [
    "def sortVerticesCounterClockwise(vertices):\n",
    "\n",
    "    # Find mean point\n",
    "    vertices = np.array(vertices)\n",
    "    meanPoint = np.mean(vertices, axis=0)\n",
    "\n",
    "    # Sort vertices counter clockwise\n",
    "    temp = vertices - meanPoint\n",
    "    angles = np.arctan2(temp[:, 1], temp[:, 0])\n",
    "\n",
    "    sortedVertices = vertices[np.argsort(angles)]\n",
    "\n",
    "    return sortedVertices"
   ]
  },
  {
   "cell_type": "code",
   "execution_count": 49,
   "metadata": {},
   "outputs": [],
   "source": [
    "def printList(triangular, i, k):\n",
    "    j = triangular[i][k]\n",
    "\n",
    "    print(f'{i} {j} {k}')  # type: ignore\n",
    "\n",
    "    if j != -1:\n",
    "        printList(triangular, i, j)\n",
    "        printList(triangular, j, k)"
   ]
  },
  {
   "cell_type": "code",
   "execution_count": 50,
   "metadata": {},
   "outputs": [
    {
     "name": "stdout",
     "output_type": "stream",
     "text": [
      "3\n",
      "2\n",
      "1\n",
      "Min cost: inf\n",
      "Time: 7.104873657226562e-05\n",
      "Triangle: \n",
      "0 -1.0 4\n"
     ]
    },
    {
     "ename": "TypeError",
     "evalue": "list indices must be integers or slices, not float",
     "output_type": "error",
     "traceback": [
      "\u001b[0;31m---------------------------------------------------------------------------\u001b[0m",
      "\u001b[0;31mTypeError\u001b[0m                                 Traceback (most recent call last)",
      "\u001b[1;32m/Users/ratchanon/ALGORDSGNANAL/LAB5/LAB5.ipynb Cell 11\u001b[0m line \u001b[0;36m2\n\u001b[1;32m     <a href='vscode-notebook-cell:/Users/ratchanon/ALGORDSGNANAL/LAB5/LAB5.ipynb#X13sZmlsZQ%3D%3D?line=23'>24</a>\u001b[0m \u001b[39m# Center spine\u001b[39;00m\n\u001b[1;32m     <a href='vscode-notebook-cell:/Users/ratchanon/ALGORDSGNANAL/LAB5/LAB5.ipynb#X13sZmlsZQ%3D%3D?line=25'>26</a>\u001b[0m ax \u001b[39m=\u001b[39m plt\u001b[39m.\u001b[39msubplot(\u001b[39m111\u001b[39m)\n\u001b[0;32m---> <a href='vscode-notebook-cell:/Users/ratchanon/ALGORDSGNANAL/LAB5/LAB5.ipynb#X13sZmlsZQ%3D%3D?line=28'>29</a>\u001b[0m plotTriangle(vertices, \u001b[39m0\u001b[39m, \u001b[39mlen\u001b[39m(vertices) \u001b[39m-\u001b[39m \u001b[39m1\u001b[39m, triangular, ax)\n",
      "\u001b[1;32m/Users/ratchanon/ALGORDSGNANAL/LAB5/LAB5.ipynb Cell 11\u001b[0m line \u001b[0;36m9\n\u001b[1;32m      <a href='vscode-notebook-cell:/Users/ratchanon/ALGORDSGNANAL/LAB5/LAB5.ipynb#X13sZmlsZQ%3D%3D?line=6'>7</a>\u001b[0m \u001b[39m# plot point\u001b[39;00m\n\u001b[1;32m      <a href='vscode-notebook-cell:/Users/ratchanon/ALGORDSGNANAL/LAB5/LAB5.ipynb#X13sZmlsZQ%3D%3D?line=7'>8</a>\u001b[0m ax\u001b[39m.\u001b[39mplot(vertices[i][\u001b[39m0\u001b[39m], vertices[i][\u001b[39m1\u001b[39m], \u001b[39m'\u001b[39m\u001b[39mro\u001b[39m\u001b[39m'\u001b[39m)\n\u001b[0;32m----> <a href='vscode-notebook-cell:/Users/ratchanon/ALGORDSGNANAL/LAB5/LAB5.ipynb#X13sZmlsZQ%3D%3D?line=8'>9</a>\u001b[0m ax\u001b[39m.\u001b[39mplot(vertices[j][\u001b[39m0\u001b[39m], vertices[j][\u001b[39m1\u001b[39m], \u001b[39m'\u001b[39m\u001b[39mro\u001b[39m\u001b[39m'\u001b[39m)\n\u001b[1;32m     <a href='vscode-notebook-cell:/Users/ratchanon/ALGORDSGNANAL/LAB5/LAB5.ipynb#X13sZmlsZQ%3D%3D?line=9'>10</a>\u001b[0m ax\u001b[39m.\u001b[39mplot(vertices[k][\u001b[39m0\u001b[39m], vertices[k][\u001b[39m1\u001b[39m], \u001b[39m'\u001b[39m\u001b[39mro\u001b[39m\u001b[39m'\u001b[39m)\n\u001b[1;32m     <a href='vscode-notebook-cell:/Users/ratchanon/ALGORDSGNANAL/LAB5/LAB5.ipynb#X13sZmlsZQ%3D%3D?line=11'>12</a>\u001b[0m \u001b[39m# Label point\u001b[39;00m\n",
      "\u001b[0;31mTypeError\u001b[0m: list indices must be integers or slices, not float"
     ]
    },
    {
     "data": {
      "image/png": "[encoded data removed]",
      "text/plain": [
       "<Figure size 640x480 with 1 Axes>"
      ]
     },
     "metadata": {},
     "output_type": "display_data"
    }
   ],
   "source": [
    "file_path = \"./test/1.0.txt\"\n",
    "\n",
    "vertices = readFile(file_path)\n",
    "dp = [[-1.0 for _ in range(len(vertices))]\n",
    "      for _ in range(len(vertices))]\n",
    "\n",
    "triangular = [[-1.0 for _ in range(len(vertices))]\n",
    "              for _ in range(len(vertices))]\n",
    "\n",
    "# vertices = sortVerticesCounterClockwise(vertices)\n",
    "\n",
    "start = time.time()\n",
    "minCost = minTriangle(vertices, 0, len(vertices) - 1, dp, triangular)\n",
    "end = time.time()\n",
    "\n",
    "\n",
    "print(f\"Min cost: {minCost}\")\n",
    "print(f\"Time: {end - start}\")\n",
    "print(f\"Triangle: \")\n",
    "\n",
    "printList(triangular, 0, len(vertices) - 1)\n",
    "\n",
    "\n",
    "# Center spine\n",
    "fig, ax = plt.subplots()\n",
    "\n",
    "\n",
    "# plotTriangle(vertices, 0, len(vertices) - 1, triangular, ax)"
   ]
  },
  {
   "cell_type": "code",
   "execution_count": null,
   "metadata": {},
   "outputs": [],
   "source": []
  }
 ],
 "metadata": {
  "kernelspec": {
   "display_name": "py311",
   "language": "python",
   "name": "python3"
  },
  "language_info": {
   "codemirror_mode": {
    "name": "ipython",
    "version": 3
   },
   "file_extension": ".py",
   "mimetype": "text/x-python",
   "name": "python",
   "nbconvert_exporter": "python",
   "pygments_lexer": "ipython3",
   "version": "3.11.5"
  },
  "orig_nbformat": 4
 },
 "nbformat": 4,
 "nbformat_minor": 2
}
