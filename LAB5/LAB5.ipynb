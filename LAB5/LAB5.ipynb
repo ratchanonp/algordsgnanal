{
 "cells": [
  {
   "cell_type": "markdown",
   "metadata": {},
   "source": [
    "# Minimum Polygon Triangular\n"
   ]
  },
  {
   "cell_type": "code",
   "execution_count": 1,
   "metadata": {},
   "outputs": [],
   "source": [
    "import time\n",
    "import matplotlib.pyplot as plt"
   ]
  },
  {
   "cell_type": "code",
   "execution_count": 2,
   "metadata": {},
   "outputs": [],
   "source": [
    "vector = list[float]\n",
    "matrix = list[vector]"
   ]
  },
  {
   "cell_type": "code",
   "execution_count": 3,
   "metadata": {},
   "outputs": [],
   "source": [
    "def distance(point1: tuple, point2: tuple) -> float:\n",
    "    return ((point1[0] - point2[0])**2 + (point1[1] - point2[1])**2)**0.5"
   ]
  },
  {
   "cell_type": "code",
   "execution_count": 4,
   "metadata": {},
   "outputs": [],
   "source": [
    "def cost(point1: tuple, point2: tuple, point3: tuple) -> float:\n",
    "    return distance(point1, point2) + distance(point2, point3) + distance(point3, point1)"
   ]
  },
  {
   "cell_type": "code",
   "execution_count": 5,
   "metadata": {},
   "outputs": [],
   "source": [
    "def minTriangle(vertices: list, i: int, k: int, dp: matrix, triangular: matrix) -> float:\n",
    "    if k - i < 2:\n",
    "        return 0\n",
    "\n",
    "    if dp[i][k] != -1:\n",
    "        return dp[i][k]\n",
    "\n",
    "    minCost = float('inf')\n",
    "    for j in range(i + 1, k):\n",
    "        c = cost(vertices[i], vertices[j], vertices[k])\n",
    "        totalCost = c + \\\n",
    "            minTriangle(vertices, i, j, dp, triangular) + \\\n",
    "            minTriangle(vertices, j, k, dp, triangular)\n",
    "\n",
    "        if totalCost < minCost:\n",
    "            minCost = totalCost\n",
    "\n",
    "            triangular[i][k] = j\n",
    "\n",
    "    dp[i][k] = minCost\n",
    "    return dp[i][k]"
   ]
  },
  {
   "cell_type": "code",
   "execution_count": 6,
   "metadata": {},
   "outputs": [],
   "source": [
    "def readFile(path: str) -> list:\n",
    "    with open(path, 'r') as f:\n",
    "        nPoints = int(f.readline())\n",
    "        points = []\n",
    "\n",
    "        for _ in range(nPoints):\n",
    "            points.append(tuple(map(float, f.readline().split())))\n",
    "\n",
    "        return points"
   ]
  },
  {
   "cell_type": "code",
   "execution_count": 7,
   "metadata": {},
   "outputs": [],
   "source": [
    "def printTriangle(vertices: list, i: int, k: int, triangular: matrix):\n",
    "    if k - i < 2:\n",
    "        return\n",
    "\n",
    "    j = triangular[i][k]\n",
    "    \n",
    "\n",
    "    # plot point\n",
    "    plt.plot(vertices[i][0], vertices[i][1], 'ro')\n",
    "    plt.plot(vertices[j][0], vertices[j][1], 'ro')\n",
    "    plt.plot(vertices[k][0], vertices[k][1], 'ro')\n",
    "\n",
    "    # Label point\n",
    "    plt.text(vertices[i][0], vertices[i][1], f'{i}')\n",
    "    plt.text(vertices[j][0], vertices[j][1], f'{j}')\n",
    "    plt.text(vertices[k][0], vertices[k][1], f'{k}')\n",
    "    # plt.show()\n",
    "\n",
    "    # plot line\n",
    "    plt.plot([vertices[i][0], vertices[j][0]],\n",
    "             [vertices[i][1], vertices[j][1]], 'r-')\n",
    "    plt.plot([vertices[j][0], vertices[k][0]],\n",
    "             [vertices[j][1], vertices[k][1]], 'r-')\n",
    "    plt.plot([vertices[k][0], vertices[i][0]],\n",
    "             [vertices[k][1], vertices[i][1]], 'r-')\n",
    "\n",
    "    if j != -1:\n",
    "        printTriangle(vertices, i, j, triangular)\n",
    "        printTriangle(vertices, j, k, triangular)"
   ]
  },
  {
   "cell_type": "code",
   "execution_count": 8,
   "metadata": {},
   "outputs": [
    {
     "name": "stdout",
     "output_type": "stream",
     "text": [
      "Min cost: 41.54630326094686\n",
      "Time: 6.29425048828125e-05\n",
      "Triangle: \n"
     ]
    },
    {
     "data": {
      "image/png": "[encoded data removed]",
      "text/plain": [
       "<Figure size 640x480 with 1 Axes>"
      ]
     },
     "metadata": {},
     "output_type": "display_data"
    }
   ],
   "source": [
    "file_path = \"./test/1.1.txt\"\n",
    "\n",
    "vertices = readFile(file_path)\n",
    "dp = [[-1.0 for _ in range(len(vertices))]\n",
    "      for _ in range(len(vertices))]\n",
    "\n",
    "triangular = [[-1.0 for _ in range(len(vertices))]\n",
    "              for _ in range(len(vertices))]\n",
    "\n",
    "start = time.time()\n",
    "minCost = minTriangle(vertices, 0, len(vertices) - 1, dp, triangular)\n",
    "end = time.time()\n",
    "\n",
    "\n",
    "print(f\"Min cost: {minCost}\")\n",
    "print(f\"Time: {end - start}\")\n",
    "print(f\"Triangle: \")\n",
    "printTriangle(vertices, 0, len(vertices) - 1, triangular)"
   ]
  },
  {
   "cell_type": "code",
   "execution_count": null,
   "metadata": {},
   "outputs": [],
   "source": []
  }
 ],
 "metadata": {
  "kernelspec": {
   "display_name": "py311",
   "language": "python",
   "name": "python3"
  },
  "language_info": {
   "codemirror_mode": {
    "name": "ipython",
    "version": 3
   },
   "file_extension": ".py",
   "mimetype": "text/x-python",
   "name": "python",
   "nbconvert_exporter": "python",
   "pygments_lexer": "ipython3",
   "version": "3.11.4"
  },
  "orig_nbformat": 4
 },
 "nbformat": 4,
 "nbformat_minor": 2
}
